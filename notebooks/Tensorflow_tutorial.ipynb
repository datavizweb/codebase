{
 "metadata": {
  "name": "",
  "signature": "sha256:6e01c272dd90969df098e558591f682f91bf8e7d41cf5a232eee94646215af46"
 },
 "nbformat": 3,
 "nbformat_minor": 0,
 "worksheets": [
  {
   "cells": [
    {
     "cell_type": "markdown",
     "metadata": {},
     "source": [
      "# Simple computation in Tensorflow"
     ]
    },
    {
     "cell_type": "code",
     "collapsed": false,
     "input": [
      "import tensorflow as tf"
     ],
     "language": "python",
     "metadata": {},
     "outputs": [],
     "prompt_number": 11
    },
    {
     "cell_type": "markdown",
     "metadata": {},
     "source": [
      "## Lets try to compute the value for this equation"
     ]
    },
    {
     "cell_type": "code",
     "collapsed": false,
     "input": [
      "%%latex\n",
      "$$ y = x^2 $$"
     ],
     "language": "python",
     "metadata": {},
     "outputs": [
      {
       "latex": [
        "$$ y = x^2 $$"
       ],
       "metadata": {},
       "output_type": "display_data",
       "text": [
        "<IPython.core.display.Latex at 0x7ffcec13cfd0>"
       ]
      }
     ],
     "prompt_number": 12
    },
    {
     "cell_type": "code",
     "collapsed": false,
     "input": [
      "## tensorflow\n",
      "x = tf.constant(2, name=\"x\")\n",
      "y = tf.square(x)\n",
      "\n",
      "## in python\n",
      "x1 = 2\n",
      "y1 = x1 ** 2\n",
      "\n",
      "## print the values of the variables\n",
      "x, y, x1, y1"
     ],
     "language": "python",
     "metadata": {},
     "outputs": [
      {
       "metadata": {},
       "output_type": "pyout",
       "prompt_number": 72,
       "text": [
        "(<tensorflow.python.framework.ops.Tensor at 0x7ffcccfa06d0>,\n",
        " <tensorflow.python.framework.ops.Tensor at 0x7ffcccfa05d0>,\n",
        " 2,\n",
        " 4)"
       ]
      }
     ],
     "prompt_number": 72
    },
    {
     "cell_type": "markdown",
     "metadata": {},
     "source": [
      "Here \"y\" is defined as square of a variable \"x\". This equation is implemented in both tensorflow and python. And in the last line the output of these variables is printed. From the out we can see that variables are evaulated in python but not in tensorflow. In python output of y1 is `4` which is square of input `x1 = 2`. To evaluate this equation, we need to first create a session"
     ]
    },
    {
     "cell_type": "code",
     "collapsed": false,
     "input": [
      "# In tensorflow all the variables need to be explicitly need to be evaluated\n",
      "with tf.Session() as session:\n",
      "    print x.eval()\n",
      "    print session.run(y)"
     ],
     "language": "python",
     "metadata": {},
     "outputs": [
      {
       "output_type": "stream",
       "stream": "stdout",
       "text": [
        "2\n",
        "4\n"
       ]
      }
     ],
     "prompt_number": 73
    },
    {
     "cell_type": "code",
     "collapsed": false,
     "input": [
      "x = tf.Variable(2, name=\"x\")\n",
      "y = tf.square(x)\n",
      "\n",
      "with tf.Session() as sess:\n",
      "    sess.run(tf.initialize_all_variables())\n",
      "    print x.eval()\n",
      "    print y.eval()"
     ],
     "language": "python",
     "metadata": {},
     "outputs": [
      {
       "output_type": "stream",
       "stream": "stdout",
       "text": [
        "2\n",
        "4\n"
       ]
      }
     ],
     "prompt_number": 76
    },
    {
     "cell_type": "code",
     "collapsed": false,
     "input": [
      "x = tf.placeholder(dtype=tf.float32)\n",
      "y = tf.square(x)\n",
      "\n",
      "sess = tf.Session()\n",
      "print sess.run(y, feed_dict={x:4})\n",
      "print sess.run([y, y], feed_dict={x:2})\n",
      "\n",
      "#with tf.Session() as sess:\n",
      "#    sess.run(tf.initialize_all_variables())\n",
      "#    print x.eval()\n",
      "#    print y.eval()"
     ],
     "language": "python",
     "metadata": {},
     "outputs": [
      {
       "output_type": "stream",
       "stream": "stdout",
       "text": [
        "16.0\n",
        "[4.0, 4.0]\n"
       ]
      }
     ],
     "prompt_number": 84
    },
    {
     "cell_type": "code",
     "collapsed": false,
     "input": [
      "x = tf.placeholder(dtype=tf.float32, shape=(2,2))\n",
      "y = tf.square(x)\n",
      "\n",
      "sess = tf.Session()\n",
      "print sess.run(y, feed_dict={x:[[2,0],[0,2]]})\n",
      "print sess.run([y, y], feed_dict={x:[[1,2],[3,4]]})"
     ],
     "language": "python",
     "metadata": {},
     "outputs": [
      {
       "output_type": "stream",
       "stream": "stdout",
       "text": [
        "[[ 4.  0.]\n",
        " [ 0.  4.]]\n",
        "[array([[  1.,   4.],\n",
        "       [  9.,  16.]], dtype=float32), array([[  1.,   4.],\n",
        "       [  9.,  16.]], dtype=float32)]\n"
       ]
      }
     ],
     "prompt_number": 89
    },
    {
     "cell_type": "markdown",
     "metadata": {},
     "source": [
      "## Compute the gradients\n",
      "Tensorflow can compute the gradients for you. It computes symbolic gradients on a graph and later we can evaluate it"
     ]
    },
    {
     "cell_type": "code",
     "collapsed": false,
     "input": [
      "%%latex\n",
      "\n",
      "$$ y = x ^ 2 $$\n",
      "$$ \\frac{dy}{dx} = \\frac{dx^2}{dx} = 2x $$"
     ],
     "language": "python",
     "metadata": {},
     "outputs": [
      {
       "latex": [
        "\n",
        "$$ y = x ^ 2 $$\n",
        "$$ \\frac{dy}{dx} = \\frac{dx^2}{dx} = 2x $$"
       ],
       "metadata": {},
       "output_type": "display_data",
       "text": [
        "<IPython.core.display.Latex at 0x7ffccae45750>"
       ]
      }
     ],
     "prompt_number": 90
    },
    {
     "cell_type": "code",
     "collapsed": false,
     "input": [
      "x = tf.placeholder(dtype=tf.float32)\n",
      "y = tf.square(x)\n",
      "\n",
      "grad = tf.gradients([y], [x])[0]\n",
      "\n",
      "sess = tf.Session()\n",
      "\n",
      "print sess.run(grad, feed_dict={x:2})\n",
      "print sess.run(grad, feed_dict={x:4})"
     ],
     "language": "python",
     "metadata": {},
     "outputs": [
      {
       "output_type": "stream",
       "stream": "stdout",
       "text": [
        "4.0\n",
        "8.0\n"
       ]
      }
     ],
     "prompt_number": 91
    },
    {
     "cell_type": "code",
     "collapsed": false,
     "input": [
      "x = tf.placeholder(dtype=tf.float32, shape=(2,1))\n",
      "a = tf.placeholder(dtype=tf.float32, shape=(2,1))\n",
      "\n",
      "## lets multiply two vector a & b\n",
      "y = tf.matmul(tf.transpose(x), a)\n",
      "\n",
      "sess = tf.Session()\n",
      "out = sess.run(y, feed_dict={x:[[1],[2]], a:[[1],[3]]})\n",
      "\n",
      "print out.shape\n",
      "print out"
     ],
     "language": "python",
     "metadata": {},
     "outputs": [
      {
       "output_type": "stream",
       "stream": "stdout",
       "text": [
        "(1, 1)\n",
        "[[ 7.]]\n"
       ]
      }
     ],
     "prompt_number": 115
    },
    {
     "cell_type": "markdown",
     "metadata": {},
     "source": [
      "### Now compute the derivative of vector\n",
      "\n",
      "[Matrix Cookbook](https://www.math.uwaterloo.ca/~hwolkowi/matrixcookbook.pdf)"
     ]
    },
    {
     "cell_type": "code",
     "collapsed": false,
     "input": [
      "%%latex\n",
      "\n",
      "$$ y = x^{T}a $$ \n",
      "\n",
      "$$ \\frac{dy}{dx} = \\frac{dx^{T}a}{dx} = a $$\n",
      "\n",
      "$$ y = a^{T}x $$\n",
      "$$ \\frac{dy}{dx} = \\frac{da^{T}x}{dx} = a $$"
     ],
     "language": "python",
     "metadata": {},
     "outputs": [
      {
       "latex": [
        "\n",
        "$$ y = x^{T}a $$ \n",
        "\n",
        "$$ \\frac{dy}{dx} = \\frac{dx^{T}a}{dx} = a $$\n",
        "\n",
        "$$ y = a^{T}x $$\n",
        "$$ \\frac{dy}{dx} = \\frac{da^{T}x}{dx} = a $$"
       ],
       "metadata": {},
       "output_type": "display_data",
       "text": [
        "<IPython.core.display.Latex at 0x7ffcc855e110>"
       ]
      }
     ],
     "prompt_number": 124
    },
    {
     "cell_type": "code",
     "collapsed": false,
     "input": [
      "x = tf.placeholder(dtype=tf.float32, shape=(2,1))\n",
      "a = tf.placeholder(dtype=tf.float32, shape=(2,1))\n",
      "\n",
      "## lets multiply two vector a & b\n",
      "y = tf.matmul(tf.transpose(x), a)\n",
      "grad = tf.gradients([y], [x])[0]\n",
      "\n",
      "sess = tf.Session()\n",
      "\n",
      "## no compute the value on the gradient\n",
      "outg = sess.run(grad, feed_dict={x:[[1],[2]], a:[[1],[3]]})\n",
      "\n",
      "print outg.shape\n",
      "print outg"
     ],
     "language": "python",
     "metadata": {},
     "outputs": [
      {
       "output_type": "stream",
       "stream": "stdout",
       "text": [
        "(2, 1)\n",
        "[[ 1.]\n",
        " [ 3.]]\n"
       ]
      }
     ],
     "prompt_number": 114
    },
    {
     "cell_type": "markdown",
     "metadata": {},
     "source": [
      "### Example : Maximum likelihood estimation of some data\n",
      "\n",
      "Data is generated by gaussian distirbution of some mean and variance."
     ]
    },
    {
     "cell_type": "code",
     "collapsed": false,
     "input": [
      "%matplotlib inline\n",
      "\n",
      "import numpy as np\n",
      "from scipy.stats import norm\n",
      "import matplotlib.pyplot as plt\n",
      "\n",
      "data = np.random.normal(0, 1, 1000) + 5;\n",
      "\n",
      "mean = np.mean(data)\n",
      "std = np.std(data)\n",
      "vrange = np.arange(-5, 15, 0.01)\n",
      "\n",
      "plt.plot(vrange, norm.pdf(vrange, mean, std))"
     ],
     "language": "python",
     "metadata": {},
     "outputs": [
      {
       "metadata": {},
       "output_type": "pyout",
       "prompt_number": 168,
       "text": [
        "[<matplotlib.lines.Line2D at 0x7ffca6087c50>]"
       ]
      },
      {
       "metadata": {},
       "output_type": "display_data",
       "png": "[encoded data removed]",
       "text": [
        "<matplotlib.figure.Figure at 0x7ffca621d890>"
       ]
      }
     ],
     "prompt_number": 168
    },
    {
     "cell_type": "code",
     "collapsed": false,
     "input": [
      "%%latex\n",
      "\n",
      "$$p(y/x) = \\frac{p(x/y)p(y)}{p(x)}$$\n",
      "\n",
      "$$p(y/x) = {(\\frac{x - \\sigma}{\\sigma})}^2 $$"
     ],
     "language": "python",
     "metadata": {},
     "outputs": [
      {
       "latex": [
        "\n",
        "$$p(y/x) = \\frac{p(x/y)p(y)}{p(x)}$$\n",
        "\n",
        "$$p(y/x) = {(\\frac{x - \\sigma}{\\sigma})}^2 $$"
       ],
       "metadata": {},
       "output_type": "display_data",
       "text": [
        "<IPython.core.display.Latex at 0x7ffcb8545050>"
       ]
      }
     ],
     "prompt_number": 158
    },
    {
     "cell_type": "code",
     "collapsed": false,
     "input": [
      "## Linear Regression\n",
      "\n",
      "import numpy\n",
      "import tensorflow as tf\n",
      "import matplotlib.pyplot as plt\n",
      "\n",
      "rng = numpy.random\n",
      "\n",
      "# Parameters\n",
      "learning_rate = 0.01\n",
      "training_epochs = 1000\n",
      "display_step = 50\n",
      "\n",
      "# Training Data\n",
      "# train_X = numpy.asarray([3.3,4.4,5.5,6.71,6.93,4.168,9.779,6.182,7.59,2.167,\n",
      "#                         7.042,10.791,5.313,7.997,5.654,9.27,3.1])\n",
      "# train_Y = numpy.asarray([1.7,2.76,2.09,3.19,1.694,1.573,3.366,2.596,2.53,1.221,\n",
      "#                         2.827,3.465,1.65,2.904,2.42,2.94,1.3])\n",
      "\n",
      "train_X = numpy.arange(100, step=0.1)\n",
      "train_Y = train_X + 15 * numpy.sin(train_X/10)\n",
      "\n",
      "plt.scatter(train_X, train_Y)\n",
      "\n",
      "n_samples = train_X.shape[0]\n",
      "\n",
      "# tf Graph Input\n",
      "X = tf.placeholder(tf.float32, name=\"X\")\n",
      "Y = tf.placeholder(tf.float32, name=\"Y\")\n",
      "\n",
      "# parameters of the model. weight W and bias b\n",
      "W = tf.Variable(np.random.randn(), name=\"weight\")\n",
      "b = tf.Variable(np.random.randn(), name=\"bias\")\n",
      "\n",
      "# define model. Here we consider linear model y = WX + b\n",
      "pred = tf.add(tf.mul(X, W), b)\n",
      "\n",
      "# We consider squared error a cost function\n",
      "# Goal is to find W and b such that squared error is minimized\n",
      "cost = tf.reduce_sum(tf.pow(pred-Y, 2))/(2*n_samples)\n",
      "\n",
      "# Use Gradient descent as optimizer\n",
      "optimizer = tf.train.GradientDescentOptimizer(learning_rate).minimize(cost)\n",
      "\n",
      "# Initializing the variables\n",
      "init = tf.initialize_all_variables()\n",
      "\n",
      "# Launch the graph\n",
      "with tf.Session() as sess:\n",
      "    sess.run(init)\n",
      "\n",
      "    # Update the model\n",
      "    for epoch in xrange(training_epochs):\n",
      "        # given input and output\n",
      "        for (x, y) in zip(train_X, train_Y):\n",
      "            # run the optimizer which will update model parameter\n",
      "            sess.run(optimizer, feed_dict={X: x, Y: y})\n",
      "\n",
      "        #Display logs per epoch step\n",
      "        if (epoch+1) % display_step == 0:\n",
      "            c = sess.run(cost, feed_dict={X: train_X, Y:train_Y})\n",
      "            print \"Epoch:\", '%04d' % (epoch+1), \"cost=\", \"{:.9f}\".format(c), \\\n",
      "                \"W=\", sess.run(W), \"b=\", sess.run(b)\n",
      "\n",
      "    print \"Optimization Finished!\"\n",
      "    training_cost = sess.run(cost, feed_dict={X: train_X, Y: train_Y})\n",
      "    print \"Training cost=\", training_cost, \"W=\", sess.run(W), \"b=\", sess.run(b), '\\n'\n",
      "\n",
      "    #Graphic display\n",
      "    plt.plot(train_X, train_Y, 'ro', label='Original data')\n",
      "    plt.plot(train_X, sess.run(W) * train_X + sess.run(b), label='Fitted line')\n",
      "    plt.legend()\n",
      "    plt.show()\n",
      "\n",
      "    # Testing example, as requested (Issue #2)\n",
      "    test_X = numpy.asarray([6.83, 4.668, 8.9, 7.91, 5.7, 8.7, 3.1, 2.1])\n",
      "    test_Y = numpy.asarray([1.84, 2.273, 3.2, 2.831, 2.92, 3.24, 1.35, 1.03])\n",
      "\n",
      "    print \"Testing... (Mean square loss Comparison)\"\n",
      "    testing_cost = sess.run(\n",
      "        tf.reduce_sum(tf.pow(pred - Y, 2)) / (2 * test_X.shape[0]),\n",
      "        feed_dict={X: test_X, Y: test_Y})  # same function as cost above\n",
      "    print \"Testing cost=\", testing_cost\n",
      "    print \"Absolute mean square loss difference:\", abs(\n",
      "        training_cost - testing_cost)\n",
      "\n",
      "    plt.plot(test_X, test_Y, 'bo', label='Testing data')\n",
      "    plt.plot(train_X, sess.run(W) * train_X + sess.run(b), label='Fitted line')\n",
      "    plt.legend()\n",
      "    plt.show()"
     ],
     "language": "python",
     "metadata": {},
     "outputs": []
    },
    {
     "cell_type": "code",
     "collapsed": false,
     "input": [
      "%matplotlib inline\n",
      "\n",
      "import numpy\n",
      "import tensorflow as tf\n",
      "import matplotlib.pyplot as plt\n",
      "\n",
      "# Parameters\n",
      "learning_rate = 0.01\n",
      "num_epochs = 1000\n",
      "\n",
      "## input and output data\n",
      "num_data = 100\n",
      "input_X = numpy.float32(numpy.arange(num_data, step=0.1))\n",
      "output_Y = numpy.float32(input_X + 20 * numpy.sin(input_X/10))\n",
      "\n",
      "## lets plot the iput data\n",
      "plt.scatter(input_X, output_Y)\n",
      "\n",
      "## Build a regression model such that model fits a line.\n",
      "\n",
      "## Define the linear regression model\n",
      "## W and B are parameters of the model\n",
      "X = tf.placeholder(tf.float32, name=\"input\")\n",
      "Y = tf.placeholder(tf.float32, name=\"output\")\n",
      "\n",
      "W = tf.Variable(numpy.random.randn(), name=\"weight\")\n",
      "B = tf.Variable(numpy.random.randn(), name=\"bias\")\n",
      "\n",
      "## ypredict = WX + B\n",
      "ypredict = tf.add(tf.mul(W,X), B)\n",
      "\n",
      "## define the cost\n",
      "## squared error is used as a cost\n",
      "cost = tf.reduce_sum(tf.square(ypredict - Y))/(2 * num_data)\n",
      "\n",
      "## now define an optimizer\n",
      "optimizer = tf.train.GradientDescentOptimizer(learning_rate).minimize(cost)\n",
      "\n",
      "## now equation is defined. Start computing the paramters by defining the graph\n",
      "with tf.Session() as sess:\n",
      "    sess.run(tf.initialize_all_variables())\n",
      "    \n",
      "    ## graph is created and now run the gradient decent\n",
      "    for epoch in range(num_epochs):\n",
      "        ## present input and output data to the optimizer\n",
      "        for (x, y) in zip(input_X, output_Y):\n",
      "            ## update the model parameters. Here we are updating the model parameter for each\n",
      "            ## sample. Lets consider batch update later\n",
      "            sess.run(optimizer, feed_dict={X : x, Y : y})\n",
      "            \n",
      "        ## also lets keep track of prediction cost. We will stop if the predicted error is less\n",
      "        if (epoch % 100) == 0:\n",
      "            ## We compute here the prediction cost, using the model parameters\n",
      "            c = sess.run(cost, feed_dict={X : input_X, Y : output_Y})\n",
      "            \n",
      "            print \"Error after %d epoch is %f\" % (epoch, c)\n",
      "        \n",
      "    ## Lets print the parameters of the model after final epoch\n",
      "    c = sess.run(cost, feed_dict={X : input_X, Y : output_Y})\n",
      "    print \"Error after %d epoch is %f\" % (epoch, c)\n",
      "    print \"Parameters of the model are y = %f * X + %f\"  % (sess.run(W), sess.run(B))\n",
      "    \n",
      "    ## lets plot the line and see how good the model parameters are\n",
      "    predict_Y = sess.run(ypredict, feed_dict={X : input_X})\n",
      "    plt.plot(input_X, predict_Y, label=\"best fit line\")\n",
      "    plt.show()\n",
      "        "
     ],
     "language": "python",
     "metadata": {},
     "outputs": [
      {
       "output_type": "stream",
       "stream": "stdout",
       "text": [
        "Error after 0 epoch is 1387.208008\n",
        "Error after 100 epoch is 1151.554077"
       ]
      },
      {
       "output_type": "stream",
       "stream": "stdout",
       "text": [
        "\n",
        "Error after 200 epoch is 1101.899414"
       ]
      },
      {
       "output_type": "stream",
       "stream": "stdout",
       "text": [
        "\n",
        "Error after 300 epoch is 1091.017456"
       ]
      },
      {
       "output_type": "stream",
       "stream": "stdout",
       "text": [
        "\n",
        "Error after 400 epoch is 1088.451294"
       ]
      },
      {
       "output_type": "stream",
       "stream": "stdout",
       "text": [
        "\n",
        "Error after 500 epoch is 1087.769897"
       ]
      },
      {
       "output_type": "stream",
       "stream": "stdout",
       "text": [
        "\n",
        "Error after 600 epoch is 1087.560791"
       ]
      },
      {
       "output_type": "stream",
       "stream": "stdout",
       "text": [
        "\n",
        "Error after 700 epoch is 1087.486328"
       ]
      },
      {
       "output_type": "stream",
       "stream": "stdout",
       "text": [
        "\n",
        "Error after 800 epoch is 1087.456665"
       ]
      },
      {
       "output_type": "stream",
       "stream": "stdout",
       "text": [
        "\n",
        "Error after 900 epoch is 1087.444458"
       ]
      },
      {
       "output_type": "stream",
       "stream": "stdout",
       "text": [
        "\n",
        "Error after 999 epoch is 1087.438477"
       ]
      },
      {
       "output_type": "stream",
       "stream": "stdout",
       "text": [
        "\n",
        "Parameters of the model are y = 0.778952 * X + 11.370889\n"
       ]
      },
      {
       "metadata": {},
       "output_type": "display_data",
       "png": "[encoded data removed]",
       "text": [
        "<matplotlib.figure.Figure at 0x7fc4a05fc4d0>"
       ]
      }
     ],
     "prompt_number": 26
    },
    {
     "cell_type": "code",
     "collapsed": false,
     "input": [
      "##\n",
      "## Non-Linear Regression\n",
      "##\n",
      "%matplotlib inline\n",
      "\n",
      "import numpy\n",
      "import tensorflow as tf\n",
      "import matplotlib.pyplot as plt\n",
      "\n",
      "# Parameters\n",
      "learning_rate = 0.00001\n",
      "num_epochs = 100\n",
      "\n",
      "## input and output data\n",
      "num_data = 100\n",
      "input_X = numpy.float32(numpy.arange(num_data, step=0.1))\n",
      "## output_Y = numpy.float32(input_X + 20 * numpy.sin(input_X/10))\n",
      "output_Y = map(lambda x : x ** 2, input_X)\n",
      "\n",
      "## lets plot the iput data\n",
      "plt.scatter(input_X, output_Y)\n",
      "\n",
      "## Build a regression model such that model fits a line.\n",
      "\n",
      "## Define the non-linear regression model\n",
      "## W and B are parameters of the model\n",
      "X = tf.placeholder(tf.float32, name=\"input\")\n",
      "Y = tf.placeholder(tf.float32, name=\"output\")\n",
      "\n",
      "W1 = tf.Variable(numpy.random.randn() + numpy.random.randn(), name=\"weight1\")\n",
      "W2 = tf.Variable(numpy.random.randn(), name=\"weight2\")\n",
      "W3 = tf.Variable(numpy.random.randn(), name=\"weight3\")\n",
      "B = tf.Variable(numpy.random.randn(), name=\"bias\")\n",
      "\n",
      "## ypredict = W1 * X^2 + W2 * X + B\n",
      "ypredict = tf.add(tf.mul(X, W1), B) + tf.mul(tf.square(X), W2)\n",
      "\n",
      "## define the cost\n",
      "## squared error is used as a cost\n",
      "cost = tf.reduce_sum(tf.square(ypredict - Y))/(2 * num_data)\n",
      "\n",
      "## now define an optimizer\n",
      "optimizer = tf.train.GradientDescentOptimizer(learning_rate).minimize(cost)\n",
      "\n",
      "## now equation is defined. Start computing the paramters by defining the graph\n",
      "with tf.Session() as sess:\n",
      "    sess.run(tf.initialize_all_variables())\n",
      "\n",
      "    ## Lets print the parameters of the model after final epoch\n",
      "    c = sess.run(cost, feed_dict={X : input_X, Y : output_Y})\n",
      "    print \"Error for initial params %f\" % (c)\n",
      "    print \"Parameters of the model are y = %f * X^2 + %f * X + %f\"  % (sess.run(W1), sess.run(W2), sess.run(B))\n",
      "    \n",
      "    ## graph is created and now run the gradient decent\n",
      "    for epoch in range(num_epochs):\n",
      "        ## present input and output data to the optimizer\n",
      "        for (x, y) in zip(input_X, output_Y):\n",
      "            ## update the model parameters. Here we are updating the model parameter for each\n",
      "            ## sample. Lets consider batch update later\n",
      "            sess.run(optimizer, feed_dict={X : x, Y : y})\n",
      "            \n",
      "        ## also lets keep track of prediction cost. We will stop if the predicted error is less\n",
      "        if (epoch % 100) == 0:\n",
      "            ## We compute here the prediction cost, using the model parameters\n",
      "            c = sess.run(cost, feed_dict={X : input_X, Y : output_Y})\n",
      "            \n",
      "            print \"Error after %d epoch is %f\" % (epoch, c)\n",
      "        \n",
      "    ## Lets print the parameters of the model after final epoch\n",
      "    c = sess.run(cost, feed_dict={X : input_X, Y : output_Y})\n",
      "    print \"Error after %d epoch is %f\" % (epoch, c)\n",
      "    print \"Parameters of the model are y = %f * X^2 + %f * X + %f\"  % (sess.run(W1), sess.run(W2), sess.run(B))\n",
      "    \n",
      "    ## lets plot the line and see how good the model parameters are\n",
      "    predict_Y = sess.run(ypredict, feed_dict={X : input_X})\n",
      "    plt.plot(input_X, predict_Y, label=\"best fit line\")\n",
      "    plt.show()\n",
      "        "
     ],
     "language": "python",
     "metadata": {},
     "outputs": [
      {
       "output_type": "stream",
       "stream": "stdout",
       "text": [
        "Error for initial params 672539392.000000\n",
        "Parameters of the model are y = 1.226430 * X^2 + -1.611763 * X + -0.922036"
       ]
      },
      {
       "output_type": "stream",
       "stream": "stdout",
       "text": [
        "\n",
        "Error after 0 epoch is nan"
       ]
      },
      {
       "output_type": "stream",
       "stream": "stdout",
       "text": [
        "\n",
        "Error after 99 epoch is nan"
       ]
      },
      {
       "output_type": "stream",
       "stream": "stdout",
       "text": [
        "\n",
        "Parameters of the model are y = nan * X^2 + nan * X + nan\n"
       ]
      },
      {
       "metadata": {},
       "output_type": "display_data",
       "png": "[encoded data removed]",
       "text": [
        "<matplotlib.figure.Figure at 0x7fd07c6bb7d0>"
       ]
      }
     ],
     "prompt_number": 18
    },
    {
     "cell_type": "code",
     "collapsed": false,
     "input": [
      "##\n",
      "## Non-Linear Regression\n",
      "##\n",
      "%matplotlib inline\n",
      "\n",
      "import numpy\n",
      "import tensorflow as tf\n",
      "import matplotlib.pyplot as plt\n",
      "\n",
      "# Parameters\n",
      "learning_rate = 0.01\n",
      "num_epochs = 1000\n",
      "\n",
      "## input and output data\n",
      "num_data = 100\n",
      "input_X = numpy.float32(numpy.arange(num_data, step=1))\n",
      "\n",
      "## output_Y = numpy.float32(input_X + 20 * numpy.sin(input_X/10))\n",
      "output_Y = map(lambda x : x ** 2, input_X)\n",
      "\n",
      "## lets plot the iput data\n",
      "plt.scatter(input_X, output_Y)\n",
      "\n",
      "## Build a regression model such that model fits a line.\n",
      "\n",
      "## Define the non-linear regression model\n",
      "## W and B are parameters of the model\n",
      "X = tf.placeholder(tf.float32, name=\"input\")\n",
      "Y = tf.placeholder(tf.float32, name=\"output\")\n",
      "\n",
      "## DNN Model\n",
      "def dnnmodel(input):\n",
      "    W1 = tf.Variable(tf.truncated_normal([10, 1], stddev=0.1), name=\"weight\")\n",
      "    b1 = tf.Variable(tf.constant(0.1, shape=[10, 1]), name=\"bias\")\n",
      "\n",
      "    ## hidden layer 1\n",
      "    h1 = tf.nn.sigmoid(tf.mul(input, W1)) + b1\n",
      "\n",
      "    W2 = tf.Variable(tf.truncated_normal([10, 1], stddev=0.1), name=\"weight\")\n",
      "    b2 = tf.Variable(tf.constant(0.1, shape=[1]), name=\"bias\")\n",
      "\n",
      "    ## hidden layer 2\n",
      "    h2 = tf.nn.sigmoid(tf.mul(h1, W2)) + b2\n",
      "\n",
      "    ## final layer activation\n",
      "    return tf.nn.sigmoid(h1)\n",
      "\n",
      "activation = dnnmodel(X)\n",
      "\n",
      "# Minimize the squared errors\n",
      "cost = tf.reduce_sum(tf.square(activation - Y))/(2*num_data)\n",
      "\n",
      "## now define an optimizer\n",
      "optimizer = tf.train.GradientDescentOptimizer(learning_rate).minimize(cost)\n",
      "\n",
      "## now equation is defined. Start computing the paramters by defining the graph\n",
      "with tf.Session() as sess:\n",
      "    sess.run(tf.initialize_all_variables())\n",
      "\n",
      "    ## Lets print the parameters of the model after final epoch\n",
      "    c = sess.run(cost, feed_dict={X : input_X, Y : output_Y})\n",
      "    print \"Error for initial params %f\" % (c)\n",
      "    ## print \"Parameters of the model are y = %f * X^2 + %f * X + %f\"  % (sess.run(W1), sess.run(W2), sess.run(B))\n",
      "    \n",
      "    ## graph is created and now run the gradient decent\n",
      "    for epoch in range(num_epochs):\n",
      "        ## present input and output data to the optimizer\n",
      "        for (x, y) in zip(input_X, output_Y):\n",
      "            ## update the model parameters. Here we are updating the model parameter for each\n",
      "            ## sample. Lets consider batch update later\n",
      "            sess.run(optimizer, feed_dict={X : x, Y : y})\n",
      "            \n",
      "        ## also lets keep track of prediction cost. We will stop if the predicted error is less\n",
      "        if (epoch % 100) == 0:\n",
      "            ## We compute here the prediction cost, using the model parameters\n",
      "            c = sess.run(cost, feed_dict={X : input_X, Y : output_Y})\n",
      "            \n",
      "            print \"Error after %d epoch is %f\" % (epoch, c)\n",
      "        \n",
      "    ## Lets print the parameters of the model after final epoch\n",
      "    c = sess.run(cost, feed_dict={X : input_X, Y : output_Y})\n",
      "    print \"Error after %d epoch is %f\" % (epoch, c)\n",
      "    ## print \"Parameters of the model are y = %f * X^2 + %f * X + %f\"  % (sess.run(W1), sess.run(W2), sess.run(B))\n",
      "    \n",
      "    ## lets plot the line and see how good the model parameters are\n",
      "    predict_Y = sess.run(activation, feed_dict={X : input_X})\n",
      "    plt.plot(input_X, predict_Y, label=\"best fit line\")\n",
      "    plt.show()\n",
      "        "
     ],
     "language": "python",
     "metadata": {},
     "outputs": [
      {
       "output_type": "stream",
       "stream": "stdout",
       "text": [
        "Error for initial params 97495400.000000\n",
        "Error after 0 epoch is 97484864.000000"
       ]
      },
      {
       "output_type": "stream",
       "stream": "stdout",
       "text": [
        "\n",
        "Error after 100 epoch is 97483880.000000"
       ]
      },
      {
       "output_type": "stream",
       "stream": "stdout",
       "text": [
        "\n",
        "Error after 200 epoch is 97483856.000000"
       ]
      },
      {
       "output_type": "stream",
       "stream": "stdout",
       "text": [
        "\n",
        "Error after 300 epoch is 97483856.000000"
       ]
      },
      {
       "output_type": "stream",
       "stream": "stdout",
       "text": [
        "\n",
        "Error after 400 epoch is 97483856.000000"
       ]
      },
      {
       "output_type": "stream",
       "stream": "stdout",
       "text": [
        "\n",
        "Error after 500 epoch is 97483848.000000"
       ]
      },
      {
       "output_type": "stream",
       "stream": "stdout",
       "text": [
        "\n",
        "Error after 600 epoch is 97483848.000000"
       ]
      },
      {
       "output_type": "stream",
       "stream": "stdout",
       "text": [
        "\n",
        "Error after 700 epoch is 97483848.000000"
       ]
      },
      {
       "output_type": "stream",
       "stream": "stdout",
       "text": [
        "\n",
        "Error after 800 epoch is 97483848.000000"
       ]
      },
      {
       "output_type": "stream",
       "stream": "stdout",
       "text": [
        "\n",
        "Error after 900 epoch is 97483848.000000"
       ]
      },
      {
       "output_type": "stream",
       "stream": "stdout",
       "text": [
        "\n",
        "Error after 999 epoch is 97483848.000000"
       ]
      },
      {
       "output_type": "stream",
       "stream": "stdout",
       "text": [
        "\n"
       ]
      },
      {
       "ename": "ValueError",
       "evalue": "x and y must have same first dimension",
       "output_type": "pyerr",
       "traceback": [
        "\u001b[0;31m---------------------------------------------------------------------------\u001b[0m\n\u001b[0;31mValueError\u001b[0m                                Traceback (most recent call last)",
        "\u001b[0;32m<ipython-input-24-2ab724875bd4>\u001b[0m in \u001b[0;36m<module>\u001b[0;34m()\u001b[0m\n\u001b[1;32m     85\u001b[0m     \u001b[0;31m## lets plot the line and see how good the model parameters are\u001b[0m\u001b[0;34m\u001b[0m\u001b[0;34m\u001b[0m\u001b[0m\n\u001b[1;32m     86\u001b[0m     \u001b[0mpredict_Y\u001b[0m \u001b[0;34m=\u001b[0m \u001b[0msess\u001b[0m\u001b[0;34m.\u001b[0m\u001b[0mrun\u001b[0m\u001b[0;34m(\u001b[0m\u001b[0mactivation\u001b[0m\u001b[0;34m,\u001b[0m \u001b[0mfeed_dict\u001b[0m\u001b[0;34m=\u001b[0m\u001b[0;34m{\u001b[0m\u001b[0mX\u001b[0m \u001b[0;34m:\u001b[0m \u001b[0minput_X\u001b[0m\u001b[0;34m}\u001b[0m\u001b[0;34m)\u001b[0m\u001b[0;34m\u001b[0m\u001b[0m\n\u001b[0;32m---> 87\u001b[0;31m     \u001b[0mplt\u001b[0m\u001b[0;34m.\u001b[0m\u001b[0mplot\u001b[0m\u001b[0;34m(\u001b[0m\u001b[0minput_X\u001b[0m\u001b[0;34m,\u001b[0m \u001b[0mpredict_Y\u001b[0m\u001b[0;34m,\u001b[0m \u001b[0mlabel\u001b[0m\u001b[0;34m=\u001b[0m\u001b[0;34m\"best fit line\"\u001b[0m\u001b[0;34m)\u001b[0m\u001b[0;34m\u001b[0m\u001b[0m\n\u001b[0m\u001b[1;32m     88\u001b[0m     \u001b[0mplt\u001b[0m\u001b[0;34m.\u001b[0m\u001b[0mshow\u001b[0m\u001b[0;34m(\u001b[0m\u001b[0;34m)\u001b[0m\u001b[0;34m\u001b[0m\u001b[0m\n\u001b[1;32m     89\u001b[0m \u001b[0;34m\u001b[0m\u001b[0m\n",
        "\u001b[0;32m/usr/lib/pymodules/python2.7/matplotlib/pyplot.pyc\u001b[0m in \u001b[0;36mplot\u001b[0;34m(*args, **kwargs)\u001b[0m\n\u001b[1;32m   2985\u001b[0m         \u001b[0max\u001b[0m\u001b[0;34m.\u001b[0m\u001b[0mhold\u001b[0m\u001b[0;34m(\u001b[0m\u001b[0mhold\u001b[0m\u001b[0;34m)\u001b[0m\u001b[0;34m\u001b[0m\u001b[0m\n\u001b[1;32m   2986\u001b[0m     \u001b[0;32mtry\u001b[0m\u001b[0;34m:\u001b[0m\u001b[0;34m\u001b[0m\u001b[0m\n\u001b[0;32m-> 2987\u001b[0;31m         \u001b[0mret\u001b[0m \u001b[0;34m=\u001b[0m \u001b[0max\u001b[0m\u001b[0;34m.\u001b[0m\u001b[0mplot\u001b[0m\u001b[0;34m(\u001b[0m\u001b[0;34m*\u001b[0m\u001b[0margs\u001b[0m\u001b[0;34m,\u001b[0m \u001b[0;34m**\u001b[0m\u001b[0mkwargs\u001b[0m\u001b[0;34m)\u001b[0m\u001b[0;34m\u001b[0m\u001b[0m\n\u001b[0m\u001b[1;32m   2988\u001b[0m         \u001b[0mdraw_if_interactive\u001b[0m\u001b[0;34m(\u001b[0m\u001b[0;34m)\u001b[0m\u001b[0;34m\u001b[0m\u001b[0m\n\u001b[1;32m   2989\u001b[0m     \u001b[0;32mfinally\u001b[0m\u001b[0;34m:\u001b[0m\u001b[0;34m\u001b[0m\u001b[0m\n",
        "\u001b[0;32m/usr/lib/pymodules/python2.7/matplotlib/axes.pyc\u001b[0m in \u001b[0;36mplot\u001b[0;34m(self, *args, **kwargs)\u001b[0m\n\u001b[1;32m   4135\u001b[0m         \u001b[0mlines\u001b[0m \u001b[0;34m=\u001b[0m \u001b[0;34m[\u001b[0m\u001b[0;34m]\u001b[0m\u001b[0;34m\u001b[0m\u001b[0m\n\u001b[1;32m   4136\u001b[0m \u001b[0;34m\u001b[0m\u001b[0m\n\u001b[0;32m-> 4137\u001b[0;31m         \u001b[0;32mfor\u001b[0m \u001b[0mline\u001b[0m \u001b[0;32min\u001b[0m \u001b[0mself\u001b[0m\u001b[0;34m.\u001b[0m\u001b[0m_get_lines\u001b[0m\u001b[0;34m(\u001b[0m\u001b[0;34m*\u001b[0m\u001b[0margs\u001b[0m\u001b[0;34m,\u001b[0m \u001b[0;34m**\u001b[0m\u001b[0mkwargs\u001b[0m\u001b[0;34m)\u001b[0m\u001b[0;34m:\u001b[0m\u001b[0;34m\u001b[0m\u001b[0m\n\u001b[0m\u001b[1;32m   4138\u001b[0m             \u001b[0mself\u001b[0m\u001b[0;34m.\u001b[0m\u001b[0madd_line\u001b[0m\u001b[0;34m(\u001b[0m\u001b[0mline\u001b[0m\u001b[0;34m)\u001b[0m\u001b[0;34m\u001b[0m\u001b[0m\n\u001b[1;32m   4139\u001b[0m             \u001b[0mlines\u001b[0m\u001b[0;34m.\u001b[0m\u001b[0mappend\u001b[0m\u001b[0;34m(\u001b[0m\u001b[0mline\u001b[0m\u001b[0;34m)\u001b[0m\u001b[0;34m\u001b[0m\u001b[0m\n",
        "\u001b[0;32m/usr/lib/pymodules/python2.7/matplotlib/axes.pyc\u001b[0m in \u001b[0;36m_grab_next_args\u001b[0;34m(self, *args, **kwargs)\u001b[0m\n\u001b[1;32m    315\u001b[0m                 \u001b[0;32mreturn\u001b[0m\u001b[0;34m\u001b[0m\u001b[0m\n\u001b[1;32m    316\u001b[0m             \u001b[0;32mif\u001b[0m \u001b[0mlen\u001b[0m\u001b[0;34m(\u001b[0m\u001b[0mremaining\u001b[0m\u001b[0;34m)\u001b[0m \u001b[0;34m<=\u001b[0m \u001b[0;36m3\u001b[0m\u001b[0;34m:\u001b[0m\u001b[0;34m\u001b[0m\u001b[0m\n\u001b[0;32m--> 317\u001b[0;31m                 \u001b[0;32mfor\u001b[0m \u001b[0mseg\u001b[0m \u001b[0;32min\u001b[0m \u001b[0mself\u001b[0m\u001b[0;34m.\u001b[0m\u001b[0m_plot_args\u001b[0m\u001b[0;34m(\u001b[0m\u001b[0mremaining\u001b[0m\u001b[0;34m,\u001b[0m \u001b[0mkwargs\u001b[0m\u001b[0;34m)\u001b[0m\u001b[0;34m:\u001b[0m\u001b[0;34m\u001b[0m\u001b[0m\n\u001b[0m\u001b[1;32m    318\u001b[0m                     \u001b[0;32myield\u001b[0m \u001b[0mseg\u001b[0m\u001b[0;34m\u001b[0m\u001b[0m\n\u001b[1;32m    319\u001b[0m                 \u001b[0;32mreturn\u001b[0m\u001b[0;34m\u001b[0m\u001b[0m\n",
        "\u001b[0;32m/usr/lib/pymodules/python2.7/matplotlib/axes.pyc\u001b[0m in \u001b[0;36m_plot_args\u001b[0;34m(self, tup, kwargs)\u001b[0m\n\u001b[1;32m    293\u001b[0m             \u001b[0mx\u001b[0m \u001b[0;34m=\u001b[0m \u001b[0mnp\u001b[0m\u001b[0;34m.\u001b[0m\u001b[0marange\u001b[0m\u001b[0;34m(\u001b[0m\u001b[0my\u001b[0m\u001b[0;34m.\u001b[0m\u001b[0mshape\u001b[0m\u001b[0;34m[\u001b[0m\u001b[0;36m0\u001b[0m\u001b[0;34m]\u001b[0m\u001b[0;34m,\u001b[0m \u001b[0mdtype\u001b[0m\u001b[0;34m=\u001b[0m\u001b[0mfloat\u001b[0m\u001b[0;34m)\u001b[0m\u001b[0;34m\u001b[0m\u001b[0m\n\u001b[1;32m    294\u001b[0m \u001b[0;34m\u001b[0m\u001b[0m\n\u001b[0;32m--> 295\u001b[0;31m         \u001b[0mx\u001b[0m\u001b[0;34m,\u001b[0m \u001b[0my\u001b[0m \u001b[0;34m=\u001b[0m \u001b[0mself\u001b[0m\u001b[0;34m.\u001b[0m\u001b[0m_xy_from_xy\u001b[0m\u001b[0;34m(\u001b[0m\u001b[0mx\u001b[0m\u001b[0;34m,\u001b[0m \u001b[0my\u001b[0m\u001b[0;34m)\u001b[0m\u001b[0;34m\u001b[0m\u001b[0m\n\u001b[0m\u001b[1;32m    296\u001b[0m \u001b[0;34m\u001b[0m\u001b[0m\n\u001b[1;32m    297\u001b[0m         \u001b[0;32mif\u001b[0m \u001b[0mself\u001b[0m\u001b[0;34m.\u001b[0m\u001b[0mcommand\u001b[0m \u001b[0;34m==\u001b[0m \u001b[0;34m'plot'\u001b[0m\u001b[0;34m:\u001b[0m\u001b[0;34m\u001b[0m\u001b[0m\n",
        "\u001b[0;32m/usr/lib/pymodules/python2.7/matplotlib/axes.pyc\u001b[0m in \u001b[0;36m_xy_from_xy\u001b[0;34m(self, x, y)\u001b[0m\n\u001b[1;32m    235\u001b[0m         \u001b[0my\u001b[0m \u001b[0;34m=\u001b[0m \u001b[0mnp\u001b[0m\u001b[0;34m.\u001b[0m\u001b[0matleast_1d\u001b[0m\u001b[0;34m(\u001b[0m\u001b[0my\u001b[0m\u001b[0;34m)\u001b[0m\u001b[0;34m\u001b[0m\u001b[0m\n\u001b[1;32m    236\u001b[0m         \u001b[0;32mif\u001b[0m \u001b[0mx\u001b[0m\u001b[0;34m.\u001b[0m\u001b[0mshape\u001b[0m\u001b[0;34m[\u001b[0m\u001b[0;36m0\u001b[0m\u001b[0;34m]\u001b[0m \u001b[0;34m!=\u001b[0m \u001b[0my\u001b[0m\u001b[0;34m.\u001b[0m\u001b[0mshape\u001b[0m\u001b[0;34m[\u001b[0m\u001b[0;36m0\u001b[0m\u001b[0;34m]\u001b[0m\u001b[0;34m:\u001b[0m\u001b[0;34m\u001b[0m\u001b[0m\n\u001b[0;32m--> 237\u001b[0;31m             \u001b[0;32mraise\u001b[0m \u001b[0mValueError\u001b[0m\u001b[0;34m(\u001b[0m\u001b[0;34m\"x and y must have same first dimension\"\u001b[0m\u001b[0;34m)\u001b[0m\u001b[0;34m\u001b[0m\u001b[0m\n\u001b[0m\u001b[1;32m    238\u001b[0m         \u001b[0;32mif\u001b[0m \u001b[0mx\u001b[0m\u001b[0;34m.\u001b[0m\u001b[0mndim\u001b[0m \u001b[0;34m>\u001b[0m \u001b[0;36m2\u001b[0m \u001b[0;32mor\u001b[0m \u001b[0my\u001b[0m\u001b[0;34m.\u001b[0m\u001b[0mndim\u001b[0m \u001b[0;34m>\u001b[0m \u001b[0;36m2\u001b[0m\u001b[0;34m:\u001b[0m\u001b[0;34m\u001b[0m\u001b[0m\n\u001b[1;32m    239\u001b[0m             \u001b[0;32mraise\u001b[0m \u001b[0mValueError\u001b[0m\u001b[0;34m(\u001b[0m\u001b[0;34m\"x and y can be no greater than 2-D\"\u001b[0m\u001b[0;34m)\u001b[0m\u001b[0;34m\u001b[0m\u001b[0m\n",
        "\u001b[0;31mValueError\u001b[0m: x and y must have same first dimension"
       ]
      },
      {
       "metadata": {},
       "output_type": "display_data",
       "png": "[encoded data removed]",
       "text": [
        "<matplotlib.figure.Figure at 0x7fd0864b87d0>"
       ]
      }
     ],
     "prompt_number": 24
    },
    {
     "cell_type": "code",
     "collapsed": false,
     "input": [
      "##\n",
      "## Non-Linear Regression\n",
      "##\n",
      "%matplotlib inline\n",
      "\n",
      "import numpy\n",
      "import tensorflow as tf\n",
      "import matplotlib.pyplot as plt\n",
      "\n",
      "from sklearn.datasets import make_classification\n",
      "from sklearn.datasets import make_blobs\n",
      "from sklearn.datasets import make_gaussian_quantiles\n",
      "\n",
      "plt.title(\"Two blobs\")\n",
      "X1, Y1 = make_blobs(n_samples=1000, n_features=2, centers=2, cluster_std=1)\n",
      "plt.scatter(X1[:, 0], X1[:, 1], marker='o', c=Y1)\n",
      "\n",
      "# Parameters\n",
      "learning_rate = 0.01\n",
      "num_epochs = 1000\n",
      "\n",
      "## input and output data\n",
      "num_data = 100\n",
      "\n"
     ],
     "language": "python",
     "metadata": {},
     "outputs": [
      {
       "metadata": {},
       "output_type": "pyout",
       "prompt_number": 44,
       "text": [
        "<matplotlib.collections.PathCollection at 0x7fd033f08890>"
       ]
      },
      {
       "metadata": {},
       "output_type": "display_data",
       "png": "[encoded data removed]",
       "text": [
        "<matplotlib.figure.Figure at 0x7fd033f9f990>"
       ]
      }
     ],
     "prompt_number": 44
    },
    {
     "cell_type": "code",
     "collapsed": false,
     "input": [
      "import os\n",
      "\n",
      "print os.getcwd()"
     ],
     "language": "python",
     "metadata": {},
     "outputs": [
      {
       "output_type": "stream",
       "stream": "stdout",
       "text": [
        "/home/raghu/WebSite/tutorial_tf\n"
       ]
      }
     ],
     "prompt_number": 1
    },
    {
     "cell_type": "code",
     "collapsed": false,
     "input": [],
     "language": "python",
     "metadata": {},
     "outputs": []
    }
   ],
   "metadata": {}
  }
 ]
}