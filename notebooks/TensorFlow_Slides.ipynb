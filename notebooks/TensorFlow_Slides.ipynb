{
 "metadata": {
  "celltoolbar": "Slideshow",
  "name": "",
  "signature": "sha256:11f1433660bea4b1b83cf7b75858400aff20632d5601d757a2feaeeb309e2b30"
 },
 "nbformat": 3,
 "nbformat_minor": 0,
 "worksheets": [
  {
   "cells": [
    {
     "cell_type": "markdown",
     "metadata": {
      "slideshow": {
       "slide_type": "slide"
      }
     },
     "source": [
      "\n",
      "\n",
      "# Tensorflow Tutorial\n",
      "![Image](http://www.kdnuggets.com/wp-content/uploads/tensorflow.jpg)\n"
     ]
    },
    {
     "cell_type": "markdown",
     "metadata": {
      "slideshow": {
       "slide_type": "slide"
      }
     },
     "source": [
      "* Theano, Tensorflow\n",
      " * Python as programming interface\n",
      " * Tensorflow has better support for distributed systems\n",
      " * Tensorflow is one of the popular project on [github](https://github.com/aymericdamien/TopDeepLearning).\n",
      "* Torch\n",
      " * Lua as programming interface\n",
      "* Caffe, CNTK\n",
      " * C++ as main programming interface\n",
      " \n",
      "Comparision with other tools can be found on [Wikipedia](https://en.wikipedia.org/wiki/Comparison_of_deep_learning_software)"
     ]
    },
    {
     "cell_type": "markdown",
     "metadata": {
      "slideshow": {
       "slide_type": "slide"
      }
     },
     "source": [
      "* [Tensorflow](http://download.tensorflow.org/paper/whitepaper2015.pdf) is an interface for expressing machine learningalgorithms and an implementation for executing such algorithms\n",
      "* A computation expressed using Tensorflow can be executed with little or no change on a wide variety of heterogeneous systems\n"
     ]
    },
    {
     "cell_type": "markdown",
     "metadata": {
      "slideshow": {
       "slide_type": "slide"
      }
     },
     "source": [
      "* [Tutorials](https://www.tensorflow.org/versions/r0.9/tutorials/index.html)\n",
      "* [Python API Referece](https://www.tensorflow.org/api_docs/python/index.html)\n",
      "* [Learning TensorFlow](http://learningtensorflow.com/)"
     ]
    },
    {
     "cell_type": "markdown",
     "metadata": {
      "slideshow": {
       "slide_type": "slide"
      }
     },
     "source": [
      "## TensorFlow Computation Graph\n",
      "\n",
      "* Computation is described as directed graph\n",
      " * Edges represents data flow node represents operations\n",
      " * Provides extensions to support looping control on graph, maintaing state etc\n",
      " * computations graph are constructed using C++/Python programming interface\n"
     ]
    },
    {
     "cell_type": "markdown",
     "metadata": {
      "slideshow": {
       "slide_type": "slide"
      }
     },
     "source": [
      "## TensorFlow Operations\n",
      "\n",
      "* Operations represents abstract computation (matrix multiplication, add)\n",
      " * Operations are polymorphic over different tensor elements\n",
      " * Device specific `kernels` executes the operations"
     ]
    },
    {
     "cell_type": "markdown",
     "metadata": {
      "slideshow": {
       "slide_type": "slide"
      }
     },
     "source": [
      "## Tensorflow Programming Model\n",
      "\n",
      " * Construction phase which assembles the graph\n",
      " * Execution phase that uses session to run the operations on the graph\n"
     ]
    },
    {
     "cell_type": "markdown",
     "metadata": {
      "slideshow": {
       "slide_type": "slide"
      }
     },
     "source": [
      "## TensorFlow Session Object\n",
      "\n",
      "* A session object encapsulates the environment in which `Operation` objects are executed and Tensor objects are evaualted.\n",
      "* A session may own resources, such as `variables`, `queues`, and `readers`. It is important to release these resources when they are no longer required. To do this, either invoke the `close()` method on the session, or use the `session as a context manager`\n"
     ]
    }
   ],
   "metadata": {}
  }
 ]
}