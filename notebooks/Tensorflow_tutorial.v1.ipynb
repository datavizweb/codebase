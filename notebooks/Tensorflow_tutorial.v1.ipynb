{
 "metadata": {
  "name": "",
  "signature": "sha256:6e01c272dd90969df098e558591f682f91bf8e7d41cf5a232eee94646215af46"
 },
 "nbformat": 3,
 "nbformat_minor": 0,
 "worksheets": [
  {
   "cells": [
    {
     "cell_type": "markdown",
     "metadata": {},
     "source": [
      "# Simple computation in Tensorflow"
     ]
    },
    {
     "cell_type": "code",
     "collapsed": false,
     "input": [
      "import tensorflow as tf"
     ],
     "language": "python",
     "metadata": {},
     "outputs": [],
     "prompt_number": 1
    },
    {
     "cell_type": "code",
     "collapsed": false,
     "input": [
      "a = tf.constant(\"Hello World\")"
     ],
     "language": "python",
     "metadata": {},
     "outputs": [],
     "prompt_number": 4
    },
    {
     "cell_type": "code",
     "collapsed": false,
     "input": [
      "print a"
     ],
     "language": "python",
     "metadata": {},
     "outputs": [
      {
       "output_type": "stream",
       "stream": "stdout",
       "text": [
        "Tensor(\"Const_1:0\", shape=TensorShape([]), dtype=string)\n"
       ]
      }
     ],
     "prompt_number": 5
    },
    {
     "cell_type": "code",
     "collapsed": false,
     "input": [
      "b = \"Hello World\"\n",
      "\n",
      "print b"
     ],
     "language": "python",
     "metadata": {},
     "outputs": [
      {
       "output_type": "stream",
       "stream": "stdout",
       "text": [
        "Hello World\n"
       ]
      }
     ],
     "prompt_number": 8
    },
    {
     "cell_type": "markdown",
     "metadata": {},
     "source": [
      "## Lets try to compute the value of this equation"
     ]
    },
    {
     "cell_type": "code",
     "collapsed": false,
     "input": [
      "%%latex\n",
      "$$ y = x^2 $$"
     ],
     "language": "python",
     "metadata": {},
     "outputs": [
      {
       "latex": [
        "$$ y = x^2 $$"
       ],
       "metadata": {},
       "output_type": "display_data",
       "text": [
        "<IPython.core.display.Latex at 0x7ffcec13cfd0>"
       ]
      }
     ],
     "prompt_number": 12
    },
    {
     "cell_type": "code",
     "collapsed": false,
     "input": [
      "## tensorflow\n",
      "x = tf.constant(2, name=\"x\")\n",
      "y = tf.square(x)\n",
      "\n",
      "## in python\n",
      "x1 = 2\n",
      "y1 = x1 ** 2\n",
      "\n",
      "## print the values of the variables\n",
      "x, y, x1, y1"
     ],
     "language": "python",
     "metadata": {},
     "outputs": [
      {
       "metadata": {},
       "output_type": "pyout",
       "prompt_number": 72,
       "text": [
        "(<tensorflow.python.framework.ops.Tensor at 0x7ffcccfa06d0>,\n",
        " <tensorflow.python.framework.ops.Tensor at 0x7ffcccfa05d0>,\n",
        " 2,\n",
        " 4)"
       ]
      }
     ],
     "prompt_number": 72
    },
    {
     "cell_type": "code",
     "collapsed": false,
     "input": [
      "# In tensorflow all the variables need to be explicitly evaluated\n",
      "with tf.Session() as session:\n",
      "    print x.eval()\n",
      "    print session.run(y)"
     ],
     "language": "python",
     "metadata": {},
     "outputs": [
      {
       "output_type": "stream",
       "stream": "stdout",
       "text": [
        "2\n",
        "4\n"
       ]
      }
     ],
     "prompt_number": 73
    },
    {
     "cell_type": "code",
     "collapsed": false,
     "input": [
      "x = tf.Variable(2, name=\"x\")\n",
      "y = tf.square(x)\n",
      "\n",
      "with tf.Session() as sess:\n",
      "    sess.run(tf.initialize_all_variables())\n",
      "\n",
      "    ## Eval is synthetic sugar for calling run\n",
      "    print x.eval()\n",
      "    print y.eval()"
     ],
     "language": "python",
     "metadata": {},
     "outputs": [
      {
       "output_type": "stream",
       "stream": "stdout",
       "text": [
        "2\n",
        "4\n"
       ]
      }
     ],
     "prompt_number": 9
    },
    {
     "cell_type": "code",
     "collapsed": false,
     "input": [
      "x = tf.placeholder(dtype=tf.float32)\n",
      "y = tf.square(x)\n",
      "\n",
      "sess = tf.Session()\n",
      "print sess.run(y, feed_dict={x:4})\n",
      "print sess.run([y, y], feed_dict={x:2})\n",
      "\n",
      "#with tf.Session() as sess:\n",
      "#    sess.run(tf.initialize_all_variables())\n",
      "#    print x.eval()\n",
      "#    print y.eval()"
     ],
     "language": "python",
     "metadata": {},
     "outputs": [
      {
       "output_type": "stream",
       "stream": "stdout",
       "text": [
        "16.0\n",
        "[4.0, 4.0]\n"
       ]
      }
     ],
     "prompt_number": 84
    },
    {
     "cell_type": "code",
     "collapsed": false,
     "input": [
      "x = tf.placeholder(dtype=tf.float32, shape=(2,2))\n",
      "y = tf.square(x)\n",
      "\n",
      "sess = tf.Session()\n",
      "print sess.run(y, feed_dict={x:[[2,0],[0,2]]})\n",
      "print sess.run([y, y], feed_dict={x:[[1,2],[3,4]]})"
     ],
     "language": "python",
     "metadata": {},
     "outputs": [
      {
       "output_type": "stream",
       "stream": "stdout",
       "text": [
        "[[ 4.  0.]\n",
        " [ 0.  4.]]\n",
        "[array([[  1.,   4.],\n",
        "       [  9.,  16.]], dtype=float32), array([[  1.,   4.],\n",
        "       [  9.,  16.]], dtype=float32)]\n"
       ]
      }
     ],
     "prompt_number": 89
    },
    {
     "cell_type": "markdown",
     "metadata": {},
     "source": [
      "## Compute the Gradients\n",
      "Tensorflow can compute the gradients for you. It computes symbolic gradients on a graph and later we can evaluate it"
     ]
    },
    {
     "cell_type": "code",
     "collapsed": false,
     "input": [
      "%%latex\n",
      "\n",
      "$$ y = x ^ 2 $$\n",
      "$$ \\frac{dy}{dx} = \\frac{dx^2}{dx} = 2x $$"
     ],
     "language": "python",
     "metadata": {},
     "outputs": [
      {
       "latex": [
        "\n",
        "$$ y = x ^ 2 $$\n",
        "$$ \\frac{dy}{dx} = \\frac{dx^2}{dx} = 2x $$"
       ],
       "metadata": {},
       "output_type": "display_data",
       "text": [
        "<IPython.core.display.Latex at 0x7ffccae45750>"
       ]
      }
     ],
     "prompt_number": 90
    },
    {
     "cell_type": "code",
     "collapsed": false,
     "input": [
      "x = tf.placeholder(dtype=tf.float32)\n",
      "y = tf.square(x)\n",
      "\n",
      "grad = tf.gradients([y], [x])[0]\n",
      "\n",
      "sess = tf.Session()\n",
      "\n",
      "print sess.run(grad, feed_dict={x:2})\n",
      "print sess.run(grad, feed_dict={x:4})\n",
      "\n",
      "sess.close()"
     ],
     "language": "python",
     "metadata": {},
     "outputs": [
      {
       "output_type": "stream",
       "stream": "stdout",
       "text": [
        "4.0\n",
        "8.0\n"
       ]
      }
     ],
     "prompt_number": 10
    },
    {
     "cell_type": "code",
     "collapsed": false,
     "input": [
      "x = tf.placeholder(dtype=tf.float32, shape=(2,1))\n",
      "a = tf.placeholder(dtype=tf.float32, shape=(2,1))\n",
      "\n",
      "## lets multiply two vector a & b\n",
      "y = tf.matmul(tf.transpose(x), a)\n",
      "\n",
      "sess = tf.Session()\n",
      "out = sess.run(y, feed_dict={x:[[1],[2]], a:[[1],[3]]})\n",
      "\n",
      "print out.shape\n",
      "print out"
     ],
     "language": "python",
     "metadata": {},
     "outputs": [
      {
       "output_type": "stream",
       "stream": "stdout",
       "text": [
        "(1, 1)\n",
        "[[ 7.]]\n"
       ]
      }
     ],
     "prompt_number": 115
    },
    {
     "cell_type": "markdown",
     "metadata": {},
     "source": [
      "### Now compute the derivative of vector\n",
      "\n",
      "[Matrix Cookbook](https://www.math.uwaterloo.ca/~hwolkowi/matrixcookbook.pdf)"
     ]
    },
    {
     "cell_type": "code",
     "collapsed": false,
     "input": [
      "%%latex\n",
      "\n",
      "$$ y = x^{T}a $$ \n",
      "\n",
      "$$ \\frac{dy}{dx} = \\frac{dx^{T}a}{dx} = a $$\n",
      "\n",
      "$$ y = a^{T}x $$\n",
      "$$ \\frac{dy}{dx} = \\frac{da^{T}x}{dx} = a $$"
     ],
     "language": "python",
     "metadata": {},
     "outputs": [
      {
       "latex": [
        "\n",
        "$$ y = x^{T}a $$ \n",
        "\n",
        "$$ \\frac{dy}{dx} = \\frac{dx^{T}a}{dx} = a $$\n",
        "\n",
        "$$ y = a^{T}x $$\n",
        "$$ \\frac{dy}{dx} = \\frac{da^{T}x}{dx} = a $$"
       ],
       "metadata": {},
       "output_type": "display_data",
       "text": [
        "<IPython.core.display.Latex at 0x7ffcc855e110>"
       ]
      }
     ],
     "prompt_number": 124
    },
    {
     "cell_type": "code",
     "collapsed": false,
     "input": [
      "x = tf.placeholder(dtype=tf.float32, shape=(2,1))\n",
      "a = tf.placeholder(dtype=tf.float32, shape=(2,1))\n",
      "\n",
      "## lets multiply two vector a & b\n",
      "y = tf.matmul(tf.transpose(x), a)\n",
      "grad = tf.gradients([y], [x])[0]\n",
      "\n",
      "sess = tf.Session()\n",
      "\n",
      "## no compute the value on the gradient\n",
      "outg = sess.run(grad, feed_dict={x:[[1],[2]], a:[[1],[3]]})\n",
      "\n",
      "print outg.shape\n",
      "print outg"
     ],
     "language": "python",
     "metadata": {},
     "outputs": [
      {
       "output_type": "stream",
       "stream": "stdout",
       "text": [
        "(2, 1)\n",
        "[[ 1.]\n",
        " [ 3.]]\n"
       ]
      }
     ],
     "prompt_number": 114
    },
    {
     "cell_type": "markdown",
     "metadata": {},
     "source": [
      "# Example : Linear Regression"
     ]
    },
    {
     "cell_type": "code",
     "collapsed": false,
     "input": [
      "%matplotlib inline\n",
      "\n",
      "import numpy as np\n",
      "import tensorflow as tf\n",
      "import matplotlib.pyplot as plt\n",
      "\n",
      "# Parameters\n",
      "learning_rate = 0.01\n",
      "num_epochs = 1000\n",
      "\n",
      "## input and output data\n",
      "num_data = 100\n",
      "input_X = numpy.float32(numpy.arange(num_data, step=0.1))\n",
      "output_Y = numpy.float32(input_X + 20 * numpy.sin(input_X/10))\n",
      "\n",
      "## lets plot the iput data\n",
      "plt.scatter(input_X, output_Y)\n",
      "\n",
      "## Build a regression model such that model fits a line.\n",
      "\n",
      "## Define the linear regression model\n",
      "## W and B are parameters of the model\n",
      "X = tf.placeholder(tf.float32, name=\"input\")\n",
      "Y = tf.placeholder(tf.float32, name=\"output\")\n",
      "\n",
      "W = tf.Variable(numpy.random.randn(), name=\"weight\")\n",
      "B = tf.Variable(numpy.random.randn(), name=\"bias\")\n",
      "\n",
      "## ypredict = WX + B\n",
      "ypredict = tf.add(tf.mul(W,X), B)\n",
      "\n",
      "## define the cost\n",
      "## squared error is used as a cost\n",
      "cost = tf.reduce_sum(tf.square(ypredict - Y))/(2 * num_data)\n",
      "\n",
      "## now define an optimizer\n",
      "optimizer = tf.train.GradientDescentOptimizer(learning_rate).minimize(cost)\n",
      "\n",
      "## now equation is defined. Start computing the paramters by defining the graph\n",
      "with tf.Session() as sess:\n",
      "    sess.run(tf.initialize_all_variables())\n",
      "    \n",
      "    ## graph is created and now run the gradient decent\n",
      "    for epoch in range(num_epochs):\n",
      "        ## present input and output data to the optimizer\n",
      "        for (x, y) in zip(input_X, output_Y):\n",
      "            ## update the model parameters. Here we are updating the model parameter for each\n",
      "            ## sample. Lets consider batch update later\n",
      "            sess.run(optimizer, feed_dict={X : x, Y : y})\n",
      "            \n",
      "        ## also lets keep track of prediction cost. We will stop if the predicted error is less\n",
      "        if (epoch % 100) == 0:\n",
      "            ## We compute here the prediction cost, using the model parameters\n",
      "            c = sess.run(cost, feed_dict={X : input_X, Y : output_Y})\n",
      "            \n",
      "            print \"Error after %d epoch is %f\" % (epoch, c)\n",
      "        \n",
      "    ## Lets print the parameters of the model after final epoch\n",
      "    c = sess.run(cost, feed_dict={X : input_X, Y : output_Y})\n",
      "    print \"Error after %d epoch is %f\" % (epoch, c)\n",
      "    print \"Parameters of the model are y = %f * X + %f\"  % (sess.run(W), sess.run(B))\n",
      "    \n",
      "    ## lets plot the line and see how good the model parameters are\n",
      "    predict_Y = sess.run(ypredict, feed_dict={X : input_X})\n",
      "    plt.plot(input_X, predict_Y, label=\"best fit line\")\n",
      "    plt.show()\n",
      "        "
     ],
     "language": "python",
     "metadata": {},
     "outputs": [
      {
       "output_type": "stream",
       "stream": "stdout",
       "text": [
        "Error after 0 epoch is 1338.330811\n",
        "Error after 100 epoch is 1141.339355"
       ]
      },
      {
       "output_type": "stream",
       "stream": "stdout",
       "text": [
        "\n",
        "Error after 200 epoch is 1099.699097"
       ]
      },
      {
       "output_type": "stream",
       "stream": "stdout",
       "text": [
        "\n",
        "Error after 300 epoch is 1090.513306"
       ]
      },
      {
       "output_type": "stream",
       "stream": "stdout",
       "text": [
        "\n"
       ]
      },
      {
       "ename": "KeyboardInterrupt",
       "evalue": "",
       "output_type": "pyerr",
       "traceback": [
        "\u001b[0;31m---------------------------------------------------------------------------\u001b[0m\n\u001b[0;31mKeyboardInterrupt\u001b[0m                         Traceback (most recent call last)",
        "\u001b[0;32m<ipython-input-10-eb395634336c>\u001b[0m in \u001b[0;36m<module>\u001b[0;34m()\u001b[0m\n\u001b[1;32m     47\u001b[0m             \u001b[0;31m## update the model parameters. Here we are updating the model parameter for each\u001b[0m\u001b[0;34m\u001b[0m\u001b[0;34m\u001b[0m\u001b[0m\n\u001b[1;32m     48\u001b[0m             \u001b[0;31m## sample. Lets consider batch update later\u001b[0m\u001b[0;34m\u001b[0m\u001b[0;34m\u001b[0m\u001b[0m\n\u001b[0;32m---> 49\u001b[0;31m             \u001b[0msess\u001b[0m\u001b[0;34m.\u001b[0m\u001b[0mrun\u001b[0m\u001b[0;34m(\u001b[0m\u001b[0moptimizer\u001b[0m\u001b[0;34m,\u001b[0m \u001b[0mfeed_dict\u001b[0m\u001b[0;34m=\u001b[0m\u001b[0;34m{\u001b[0m\u001b[0mX\u001b[0m \u001b[0;34m:\u001b[0m \u001b[0mx\u001b[0m\u001b[0;34m,\u001b[0m \u001b[0mY\u001b[0m \u001b[0;34m:\u001b[0m \u001b[0my\u001b[0m\u001b[0;34m}\u001b[0m\u001b[0;34m)\u001b[0m\u001b[0;34m\u001b[0m\u001b[0m\n\u001b[0m\u001b[1;32m     50\u001b[0m \u001b[0;34m\u001b[0m\u001b[0m\n\u001b[1;32m     51\u001b[0m         \u001b[0;31m## also lets keep track of prediction cost. We will stop if the predicted error is less\u001b[0m\u001b[0;34m\u001b[0m\u001b[0;34m\u001b[0m\u001b[0m\n",
        "\u001b[0;32m/usr/local/lib/python2.7/dist-packages/tensorflow/python/client/session.pyc\u001b[0m in \u001b[0;36mrun\u001b[0;34m(self, fetches, feed_dict, options, run_metadata)\u001b[0m\n\u001b[1;32m    370\u001b[0m     \u001b[0;32mtry\u001b[0m\u001b[0;34m:\u001b[0m\u001b[0;34m\u001b[0m\u001b[0m\n\u001b[1;32m    371\u001b[0m       result = self._run(None, fetches, feed_dict, options_ptr,\n\u001b[0;32m--> 372\u001b[0;31m                          run_metadata_ptr)\n\u001b[0m\u001b[1;32m    373\u001b[0m       \u001b[0;32mif\u001b[0m \u001b[0mrun_metadata\u001b[0m\u001b[0;34m:\u001b[0m\u001b[0;34m\u001b[0m\u001b[0m\n\u001b[1;32m    374\u001b[0m         \u001b[0mproto_data\u001b[0m \u001b[0;34m=\u001b[0m \u001b[0mtf_session\u001b[0m\u001b[0;34m.\u001b[0m\u001b[0mTF_GetBuffer\u001b[0m\u001b[0;34m(\u001b[0m\u001b[0mrun_metadata_ptr\u001b[0m\u001b[0;34m)\u001b[0m\u001b[0;34m\u001b[0m\u001b[0m\n",
        "\u001b[0;32m/usr/local/lib/python2.7/dist-packages/tensorflow/python/client/session.pyc\u001b[0m in \u001b[0;36m_run\u001b[0;34m(self, handle, fetches, feed_dict, options, run_metadata)\u001b[0m\n\u001b[1;32m    634\u001b[0m     \u001b[0;32mtry\u001b[0m\u001b[0;34m:\u001b[0m\u001b[0;34m\u001b[0m\u001b[0m\n\u001b[1;32m    635\u001b[0m       results = self._do_run(handle, target_list, unique_fetches,\n\u001b[0;32m--> 636\u001b[0;31m                              feed_dict_string, options, run_metadata)\n\u001b[0m\u001b[1;32m    637\u001b[0m     \u001b[0;32mfinally\u001b[0m\u001b[0;34m:\u001b[0m\u001b[0;34m\u001b[0m\u001b[0m\n\u001b[1;32m    638\u001b[0m       \u001b[0;31m# The movers are no longer used. Delete them.\u001b[0m\u001b[0;34m\u001b[0m\u001b[0;34m\u001b[0m\u001b[0m\n",
        "\u001b[0;32m/usr/local/lib/python2.7/dist-packages/tensorflow/python/client/session.pyc\u001b[0m in \u001b[0;36m_do_run\u001b[0;34m(self, handle, target_list, fetch_list, feed_dict, options, run_metadata)\u001b[0m\n\u001b[1;32m    706\u001b[0m     \u001b[0;32mif\u001b[0m \u001b[0mhandle\u001b[0m \u001b[0;32mis\u001b[0m \u001b[0mNone\u001b[0m\u001b[0;34m:\u001b[0m\u001b[0;34m\u001b[0m\u001b[0m\n\u001b[1;32m    707\u001b[0m       return self._do_call(_run_fn, self._session, feed_dict, fetch_list,\n\u001b[0;32m--> 708\u001b[0;31m                            target_list, options, run_metadata)\n\u001b[0m\u001b[1;32m    709\u001b[0m     \u001b[0;32melse\u001b[0m\u001b[0;34m:\u001b[0m\u001b[0;34m\u001b[0m\u001b[0m\n\u001b[1;32m    710\u001b[0m       return self._do_call(_prun_fn, self._session, handle, feed_dict,\n",
        "\u001b[0;32m/usr/local/lib/python2.7/dist-packages/tensorflow/python/client/session.pyc\u001b[0m in \u001b[0;36m_do_call\u001b[0;34m(self, fn, *args)\u001b[0m\n\u001b[1;32m    713\u001b[0m   \u001b[0;32mdef\u001b[0m \u001b[0m_do_call\u001b[0m\u001b[0;34m(\u001b[0m\u001b[0mself\u001b[0m\u001b[0;34m,\u001b[0m \u001b[0mfn\u001b[0m\u001b[0;34m,\u001b[0m \u001b[0;34m*\u001b[0m\u001b[0margs\u001b[0m\u001b[0;34m)\u001b[0m\u001b[0;34m:\u001b[0m\u001b[0;34m\u001b[0m\u001b[0m\n\u001b[1;32m    714\u001b[0m     \u001b[0;32mtry\u001b[0m\u001b[0;34m:\u001b[0m\u001b[0;34m\u001b[0m\u001b[0m\n\u001b[0;32m--> 715\u001b[0;31m       \u001b[0;32mreturn\u001b[0m \u001b[0mfn\u001b[0m\u001b[0;34m(\u001b[0m\u001b[0;34m*\u001b[0m\u001b[0margs\u001b[0m\u001b[0;34m)\u001b[0m\u001b[0;34m\u001b[0m\u001b[0m\n\u001b[0m\u001b[1;32m    716\u001b[0m     \u001b[0;32mexcept\u001b[0m \u001b[0merrors\u001b[0m\u001b[0;34m.\u001b[0m\u001b[0mOpError\u001b[0m \u001b[0;32mas\u001b[0m \u001b[0me\u001b[0m\u001b[0;34m:\u001b[0m\u001b[0;34m\u001b[0m\u001b[0m\n\u001b[1;32m    717\u001b[0m       \u001b[0mmessage\u001b[0m \u001b[0;34m=\u001b[0m \u001b[0mcompat\u001b[0m\u001b[0;34m.\u001b[0m\u001b[0mas_text\u001b[0m\u001b[0;34m(\u001b[0m\u001b[0me\u001b[0m\u001b[0;34m.\u001b[0m\u001b[0mmessage\u001b[0m\u001b[0;34m)\u001b[0m\u001b[0;34m\u001b[0m\u001b[0m\n",
        "\u001b[0;32m/usr/local/lib/python2.7/dist-packages/tensorflow/python/client/session.pyc\u001b[0m in \u001b[0;36m_run_fn\u001b[0;34m(session, feed_dict, fetch_list, target_list, options, run_metadata)\u001b[0m\n\u001b[1;32m    695\u001b[0m         return tf_session.TF_Run(session, options,\n\u001b[1;32m    696\u001b[0m                                  \u001b[0mfeed_dict\u001b[0m\u001b[0;34m,\u001b[0m \u001b[0mfetch_list\u001b[0m\u001b[0;34m,\u001b[0m \u001b[0mtarget_list\u001b[0m\u001b[0;34m,\u001b[0m\u001b[0;34m\u001b[0m\u001b[0m\n\u001b[0;32m--> 697\u001b[0;31m                                  status, run_metadata)\n\u001b[0m\u001b[1;32m    698\u001b[0m \u001b[0;34m\u001b[0m\u001b[0m\n\u001b[1;32m    699\u001b[0m     \u001b[0;32mdef\u001b[0m \u001b[0m_prun_fn\u001b[0m\u001b[0;34m(\u001b[0m\u001b[0msession\u001b[0m\u001b[0;34m,\u001b[0m \u001b[0mhandle\u001b[0m\u001b[0;34m,\u001b[0m \u001b[0mfeed_dict\u001b[0m\u001b[0;34m,\u001b[0m \u001b[0mfetch_list\u001b[0m\u001b[0;34m)\u001b[0m\u001b[0;34m:\u001b[0m\u001b[0;34m\u001b[0m\u001b[0m\n",
        "\u001b[0;31mKeyboardInterrupt\u001b[0m: "
       ]
      },
      {
       "metadata": {},
       "output_type": "display_data",
       "png": "[encoded data removed]",
       "text": [
        "<matplotlib.figure.Figure at 0x7f30446d4f50>"
       ]
      }
     ],
     "prompt_number": 10
    },
    {
     "cell_type": "code",
     "collapsed": false,
     "input": [
      "##\n",
      "## Non-Linear Regression\n",
      "##\n",
      "%matplotlib inline\n",
      "\n",
      "import numpy as np\n",
      "import tensorflow as tf\n",
      "import matplotlib.pyplot as plt\n",
      "\n",
      "## we create data using sklearn make_blobs\n",
      "from sklearn.datasets import make_blobs\n",
      "\n",
      "# training control parameters\n",
      "learning_rate = 0.01\n",
      "num_epochs = 1000\n",
      "batch_size = 100\n",
      "layer_size = 20\n",
      "\n",
      "## input and output data\n",
      "num_data = 10000\n",
      "\n",
      "##\n",
      "## helper functions\n",
      "##\n",
      "\n",
      "## get as a batch of size batch_size\n",
      "def batch(num, size, data):\n",
      "    num_batches = int(data.shape[1] / size);\n",
      "\n",
      "    ## correct it, it misses few samples\n",
      "    if num < num_batches:\n",
      "        return data[(num - 1) * size:size * num, :]\n",
      "    else:\n",
      "        return data[(num - 1) * size:, :]\n",
      "    \n",
      "## train and test for output creation\n",
      "def pval(x):\n",
      "    if x > 0:\n",
      "        return 1\n",
      "    else:\n",
      "        return 0\n",
      "\n",
      "def nval(x):\n",
      "    if x > 0:\n",
      "        return 0\n",
      "    else:\n",
      "        return 1\n",
      "\n",
      "\n",
      "## generate plot the data\n",
      "plt.title(\"Two blobs\")\n",
      "X1, Y1 = make_blobs(n_samples=10000, n_features=2, centers=2, cluster_std=1)\n",
      "\n",
      "## re-arrange the data\n",
      "XM = np.matrix(X1)  ## shape=(1000,2)\n",
      "YM = np.matrix([(nval(i), pval(i)) for i in Y1])  ## shape=(1000, 2)\n",
      "    \n",
      "## lets create train and test set\n",
      "train_X = XM[:9000]\n",
      "train_Y = YM[:9000]\n",
      "\n",
      "test_X = XM[9000:]\n",
      "test_Y = YM[9000:]\n",
      "\n",
      "print test_X[0]\n",
      "print test_X[0].shape\n",
      "print test_X.shape\n",
      "\n",
      "## Step 1 : list the model parameters and make them as variables.\n",
      "##        : Inputs and outputs as placeholders\n",
      "input = tf.placeholder(tf.float32, [None, 2], name=\"input\")\n",
      "y_ = tf.placeholder(tf.float32, [None, 2], name=\"ouput\")\n",
      "\n",
      "\n",
      "W1 = tf.Variable(tf.random_normal((2, layer_size), stddev=0.01), name=\"weight1\")\n",
      "bias1 = tf.Variable(tf.random_normal((1, layer_size), stddev=0.01), name=\"bias1\")\n",
      "\n",
      "layer1 = tf.nn.relu(tf.matmul(input, W1) + bias1, name=\"layer1\")\n",
      "\n",
      "W2 = tf.Variable(tf.random_normal((layer_size, layer_size), stddev=0.01), name=\"weight2\")\n",
      "bias2 = tf.Variable(tf.random_normal((layer_size, layer_size), stddev=0.01), name=\"bias2\")\n",
      "\n",
      "layer2 = tf.nn.relu(tf.matmul(layer1, W2) + bias2, name=\"layer2\")\n",
      "\n",
      "W3 = tf.Variable(tf.random_normal((layer_size, 2), stddev=0.01), name=\"weight2\")\n",
      "bias3 = tf.Variable(tf.random_normal((layer_size, 2), stddev=0.01), name=\"bias2\")\n",
      "\n",
      "\n",
      "## define the network. Now it has only one layer\n",
      "y = tf.nn.softmax(tf.matmul(layer1, W3) + bias3, name=\"softmax\")\n",
      "\n",
      "## create the cost function, which tries to reduce the prediction error\n",
      "cross_entropy = tf.reduce_mean(-tf.reduce_sum(y_ * tf.log(y), reduction_indices=[1]))\n",
      "\n",
      "## Given the cost function to the optimizer\n",
      "optimizer = tf.train.GradientDescentOptimizer(learning_rate).minimize(cross_entropy)\n",
      "\n",
      "## accuracy computation\n",
      "correct_prediction = tf.equal(tf.argmax(y, 1), tf.argmax(y_, 1))\n",
      "accuracy = tf.reduce_mean(tf.cast(correct_prediction, tf.float32))\n",
      "\n",
      "## now create session and run the model training\n",
      "with tf.Session() as sess:\n",
      "    sess.run(tf.initialize_all_variables())\n",
      "\n",
      "    for epoch in range(num_epochs):\n",
      "        num_batches = int(train_X.shape[1] / batch_size);\n",
      "        \n",
      "        for batchnum in range(num_batches):\n",
      "            xb, yb = batch(num, batch_size, train_X), batch(num, batch_size, train_Y)\n",
      "            sess.run(optimizer, feed_dict={input : xb, y_ : yb})\n",
      "                    \n",
      "        if (epoch % 100) == 0:\n",
      "            print \"Error after %d epoch\"  % (epoch)\n",
      "    \n",
      "    ## training is complete lets compute the test accuracy\n",
      "    yo, ac = sess.run([y, accuracy], feed_dict={input: test_X[:20], y_ : test_Y[:20]})\n",
      "    \n",
      "    ## plot the train and test data\n",
      "    plt.scatter(X1[:900, 0], X1[:900, 1], marker='+', c=Y1[:900])\n",
      "    plt.scatter(X1[900:, 0], X1[900:, 1], marker='o', c=Y1[900:])\n",
      "    \n",
      "    print test_Y[:10]\n",
      "    print yo\n",
      "    print ac"
     ],
     "language": "python",
     "metadata": {},
     "outputs": [
      {
       "output_type": "stream",
       "stream": "stdout",
       "text": [
        "[[-9.58420405  0.87324403]]\n",
        "(1, 2)\n",
        "(1000, 2)\n",
        "Error after 0 epoch"
       ]
      },
      {
       "output_type": "stream",
       "stream": "stdout",
       "text": [
        "\n",
        "Error after 100 epoch\n",
        "Error after 200 epoch\n",
        "Error after 300 epoch\n",
        "Error after 400 epoch\n",
        "Error after 500 epoch\n",
        "Error after 600 epoch\n",
        "Error after 700 epoch\n",
        "Error after 800 epoch\n",
        "Error after 900 epoch\n",
        "[[1 0]\n",
        " [0 1]\n",
        " [1 0]\n",
        " [0 1]\n",
        " [0 1]\n",
        " [0 1]\n",
        " [0 1]\n",
        " [0 1]\n",
        " [1 0]\n",
        " [0 1]]"
       ]
      },
      {
       "output_type": "stream",
       "stream": "stdout",
       "text": [
        "\n",
        "[[ 0.50397986  0.49602011]\n",
        " [ 0.50221145  0.49778849]\n",
        " [ 0.50378412  0.49621594]\n",
        " [ 0.50659734  0.49340266]\n",
        " [ 0.497861    0.50213903]\n",
        " [ 0.50717068  0.49282932]\n",
        " [ 0.50193149  0.49806848]\n",
        " [ 0.49835077  0.50164926]\n",
        " [ 0.50427008  0.49572995]\n",
        " [ 0.49915516  0.50084478]\n",
        " [ 0.49976754  0.50023252]\n",
        " [ 0.49989074  0.5001092 ]\n",
        " [ 0.5020141   0.49798599]\n",
        " [ 0.49697423  0.50302571]\n",
        " [ 0.49931455  0.50068551]\n",
        " [ 0.50725722  0.49274275]\n",
        " [ 0.49678588  0.50321406]\n",
        " [ 0.49890447  0.50109547]\n",
        " [ 0.50178546  0.49821454]\n",
        " [ 0.50098276  0.49901727]]\n",
        "0.45\n"
       ]
      },
      {
       "metadata": {},
       "output_type": "display_data",
       "png": "[encoded data removed]",
       "text": [
        "<matplotlib.figure.Figure at 0x7f3711bfd710>"
       ]
      }
     ],
     "prompt_number": 57
    },
    {
     "cell_type": "code",
     "collapsed": false,
     "input": [],
     "language": "python",
     "metadata": {},
     "outputs": [],
     "prompt_number": 34
    },
    {
     "cell_type": "code",
     "collapsed": false,
     "input": [],
     "language": "python",
     "metadata": {},
     "outputs": []
    }
   ],
   "metadata": {}
  }
 ]
}