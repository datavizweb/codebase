{
 "metadata": {
  "name": "",
  "signature": "sha256:7eed1ff87d5215e601705a3b7cfed73817978967171b24cb0a49a0c02dd6b90e"
 },
 "nbformat": 3,
 "nbformat_minor": 0,
 "worksheets": []
}