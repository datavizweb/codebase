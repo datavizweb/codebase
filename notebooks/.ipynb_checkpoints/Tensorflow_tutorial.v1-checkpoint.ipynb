{
 "metadata": {
  "name": "",
  "signature": "sha256:6e01c272dd90969df098e558591f682f91bf8e7d41cf5a232eee94646215af46"
 },
 "nbformat": 3,
 "nbformat_minor": 0,
 "worksheets": [
  {
   "cells": [
    {
     "cell_type": "markdown",
     "metadata": {},
     "source": [
      "# Simple computation in Tensorflow"
     ]
    },
    {
     "cell_type": "code",
     "collapsed": false,
     "input": [
      "import tensorflow as tf"
     ],
     "language": "python",
     "metadata": {},
     "outputs": [],
     "prompt_number": 2
    },
    {
     "cell_type": "code",
     "collapsed": false,
     "input": [
      "a = tf.constant(\"Hello World\")"
     ],
     "language": "python",
     "metadata": {},
     "outputs": [],
     "prompt_number": 4
    },
    {
     "cell_type": "code",
     "collapsed": false,
     "input": [
      "print a"
     ],
     "language": "python",
     "metadata": {},
     "outputs": [
      {
       "output_type": "stream",
       "stream": "stdout",
       "text": [
        "Tensor(\"Const_1:0\", shape=TensorShape([]), dtype=string)\n"
       ]
      }
     ],
     "prompt_number": 5
    },
    {
     "cell_type": "code",
     "collapsed": false,
     "input": [
      "b = \"Hello World\"\n",
      "\n",
      "print b"
     ],
     "language": "python",
     "metadata": {},
     "outputs": [
      {
       "output_type": "stream",
       "stream": "stdout",
       "text": [
        "Hello World\n"
       ]
      }
     ],
     "prompt_number": 8
    },
    {
     "cell_type": "markdown",
     "metadata": {},
     "source": [
      "## Lets try to compute the value of this equation"
     ]
    },
    {
     "cell_type": "code",
     "collapsed": false,
     "input": [
      "%%latex\n",
      "$$ y = x^2 $$"
     ],
     "language": "python",
     "metadata": {},
     "outputs": [
      {
       "latex": [
        "$$ y = x^2 $$"
       ],
       "metadata": {},
       "output_type": "display_data",
       "text": [
        "<IPython.core.display.Latex at 0x7ffcec13cfd0>"
       ]
      }
     ],
     "prompt_number": 12
    },
    {
     "cell_type": "code",
     "collapsed": false,
     "input": [
      "## tensorflow\n",
      "x = tf.constant(2, name=\"x\")\n",
      "y = tf.square(x)\n",
      "\n",
      "## in python\n",
      "x1 = 2\n",
      "y1 = x1 ** 2\n",
      "\n",
      "## print the values of the variables\n",
      "x, y, x1, y1"
     ],
     "language": "python",
     "metadata": {},
     "outputs": [
      {
       "metadata": {},
       "output_type": "pyout",
       "prompt_number": 72,
       "text": [
        "(<tensorflow.python.framework.ops.Tensor at 0x7ffcccfa06d0>,\n",
        " <tensorflow.python.framework.ops.Tensor at 0x7ffcccfa05d0>,\n",
        " 2,\n",
        " 4)"
       ]
      }
     ],
     "prompt_number": 72
    },
    {
     "cell_type": "code",
     "collapsed": false,
     "input": [
      "# In tensorflow all the variables need to be explicitly evaluated\n",
      "with tf.Session() as session:\n",
      "    print x.eval()\n",
      "    print session.run(y)"
     ],
     "language": "python",
     "metadata": {},
     "outputs": [
      {
       "output_type": "stream",
       "stream": "stdout",
       "text": [
        "2\n",
        "4\n"
       ]
      }
     ],
     "prompt_number": 73
    },
    {
     "cell_type": "code",
     "collapsed": false,
     "input": [
      "x = tf.Variable(2, name=\"x\")\n",
      "y = tf.square(x)\n",
      "\n",
      "with tf.Session() as sess:\n",
      "    sess.run(tf.initialize_all_variables())\n",
      "\n",
      "    ## Eval is synthetic sugar for calling run\n",
      "    print x.eval()\n",
      "    print y.eval()"
     ],
     "language": "python",
     "metadata": {},
     "outputs": [
      {
       "output_type": "stream",
       "stream": "stdout",
       "text": [
        "2\n",
        "4\n"
       ]
      }
     ],
     "prompt_number": 9
    },
    {
     "cell_type": "code",
     "collapsed": false,
     "input": [
      "x = tf.placeholder(dtype=tf.float32)\n",
      "y = tf.square(x)\n",
      "\n",
      "sess = tf.Session()\n",
      "print sess.run(y, feed_dict={x:4})\n",
      "print sess.run([y, y], feed_dict={x:2})\n",
      "\n",
      "#with tf.Session() as sess:\n",
      "#    sess.run(tf.initialize_all_variables())\n",
      "#    print x.eval()\n",
      "#    print y.eval()"
     ],
     "language": "python",
     "metadata": {},
     "outputs": [
      {
       "output_type": "stream",
       "stream": "stdout",
       "text": [
        "16.0\n",
        "[4.0, 4.0]\n"
       ]
      }
     ],
     "prompt_number": 84
    },
    {
     "cell_type": "code",
     "collapsed": false,
     "input": [
      "x = tf.placeholder(dtype=tf.float32, shape=(2,2))\n",
      "y = tf.square(x)\n",
      "\n",
      "sess = tf.Session()\n",
      "print sess.run(y, feed_dict={x:[[2,0],[0,2]]})\n",
      "print sess.run([y, y], feed_dict={x:[[1,2],[3,4]]})"
     ],
     "language": "python",
     "metadata": {},
     "outputs": [
      {
       "output_type": "stream",
       "stream": "stdout",
       "text": [
        "[[ 4.  0.]\n",
        " [ 0.  4.]]\n",
        "[array([[  1.,   4.],\n",
        "       [  9.,  16.]], dtype=float32), array([[  1.,   4.],\n",
        "       [  9.,  16.]], dtype=float32)]\n"
       ]
      }
     ],
     "prompt_number": 89
    },
    {
     "cell_type": "markdown",
     "metadata": {},
     "source": [
      "## Compute the Gradients\n",
      "Tensorflow can compute the gradients for you. It computes symbolic gradients on a graph and later we can evaluate it"
     ]
    },
    {
     "cell_type": "code",
     "collapsed": false,
     "input": [
      "%%latex\n",
      "\n",
      "$$ y = x ^ 2 $$\n",
      "$$ \\frac{dy}{dx} = \\frac{dx^2}{dx} = 2x $$"
     ],
     "language": "python",
     "metadata": {},
     "outputs": [
      {
       "latex": [
        "\n",
        "$$ y = x ^ 2 $$\n",
        "$$ \\frac{dy}{dx} = \\frac{dx^2}{dx} = 2x $$"
       ],
       "metadata": {},
       "output_type": "display_data",
       "text": [
        "<IPython.core.display.Latex at 0x7ffccae45750>"
       ]
      }
     ],
     "prompt_number": 90
    },
    {
     "cell_type": "code",
     "collapsed": false,
     "input": [
      "x = tf.placeholder(dtype=tf.float32)\n",
      "y = tf.square(x)\n",
      "\n",
      "grad = tf.gradients([y], [x])[0]\n",
      "\n",
      "sess = tf.Session()\n",
      "\n",
      "print sess.run(grad, feed_dict={x:2})\n",
      "print sess.run(grad, feed_dict={x:4})\n",
      "\n",
      "sess.close()"
     ],
     "language": "python",
     "metadata": {},
     "outputs": [
      {
       "output_type": "stream",
       "stream": "stdout",
       "text": [
        "4.0\n",
        "8.0\n"
       ]
      }
     ],
     "prompt_number": 10
    },
    {
     "cell_type": "code",
     "collapsed": false,
     "input": [
      "x = tf.placeholder(dtype=tf.float32, shape=(2,1))\n",
      "a = tf.placeholder(dtype=tf.float32, shape=(2,1))\n",
      "\n",
      "## lets multiply two vector a & b\n",
      "y = tf.matmul(tf.transpose(x), a)\n",
      "\n",
      "sess = tf.Session()\n",
      "out = sess.run(y, feed_dict={x:[[1],[2]], a:[[1],[3]]})\n",
      "\n",
      "print out.shape\n",
      "print out"
     ],
     "language": "python",
     "metadata": {},
     "outputs": [
      {
       "output_type": "stream",
       "stream": "stdout",
       "text": [
        "(1, 1)\n",
        "[[ 7.]]\n"
       ]
      }
     ],
     "prompt_number": 115
    },
    {
     "cell_type": "markdown",
     "metadata": {},
     "source": [
      "### Now compute the derivative of vector\n",
      "\n",
      "[Matrix Cookbook](https://www.math.uwaterloo.ca/~hwolkowi/matrixcookbook.pdf)"
     ]
    },
    {
     "cell_type": "code",
     "collapsed": false,
     "input": [
      "%%latex\n",
      "\n",
      "$$ y = x^{T}a $$ \n",
      "\n",
      "$$ \\frac{dy}{dx} = \\frac{dx^{T}a}{dx} = a $$\n",
      "\n",
      "$$ y = a^{T}x $$\n",
      "$$ \\frac{dy}{dx} = \\frac{da^{T}x}{dx} = a $$"
     ],
     "language": "python",
     "metadata": {},
     "outputs": [
      {
       "latex": [
        "\n",
        "$$ y = x^{T}a $$ \n",
        "\n",
        "$$ \\frac{dy}{dx} = \\frac{dx^{T}a}{dx} = a $$\n",
        "\n",
        "$$ y = a^{T}x $$\n",
        "$$ \\frac{dy}{dx} = \\frac{da^{T}x}{dx} = a $$"
       ],
       "metadata": {},
       "output_type": "display_data",
       "text": [
        "<IPython.core.display.Latex at 0x7ffcc855e110>"
       ]
      }
     ],
     "prompt_number": 124
    },
    {
     "cell_type": "code",
     "collapsed": false,
     "input": [
      "x = tf.placeholder(dtype=tf.float32, shape=(2,1))\n",
      "a = tf.placeholder(dtype=tf.float32, shape=(2,1))\n",
      "\n",
      "## lets multiply two vector a & b\n",
      "y = tf.matmul(tf.transpose(x), a)\n",
      "grad = tf.gradients([y], [x])[0]\n",
      "\n",
      "sess = tf.Session()\n",
      "\n",
      "## no compute the value on the gradient\n",
      "outg = sess.run(grad, feed_dict={x:[[1],[2]], a:[[1],[3]]})\n",
      "\n",
      "print outg.shape\n",
      "print outg"
     ],
     "language": "python",
     "metadata": {},
     "outputs": [
      {
       "output_type": "stream",
       "stream": "stdout",
       "text": [
        "(2, 1)\n",
        "[[ 1.]\n",
        " [ 3.]]\n"
       ]
      }
     ],
     "prompt_number": 114
    },
    {
     "cell_type": "markdown",
     "metadata": {},
     "source": [
      "# Example : Linear Regression"
     ]
    },
    {
     "cell_type": "code",
     "collapsed": false,
     "input": [
      "%matplotlib inline\n",
      "\n",
      "import numpy\n",
      "import tensorflow as tf\n",
      "import matplotlib.pyplot as plt\n",
      "\n",
      "# Parameters\n",
      "learning_rate = 0.01\n",
      "num_epochs = 1000\n",
      "\n",
      "## input and output data\n",
      "num_data = 100\n",
      "input_X = numpy.float32(numpy.arange(num_data, step=0.1))\n",
      "output_Y = numpy.float32(input_X + 20 * numpy.sin(input_X/10))\n",
      "\n",
      "## lets plot the iput data\n",
      "plt.scatter(input_X, output_Y)\n",
      "\n",
      "## Build a regression model such that model fits a line.\n",
      "\n",
      "## Define the linear regression model\n",
      "## W and B are parameters of the model\n",
      "X = tf.placeholder(tf.float32, name=\"input\")\n",
      "Y = tf.placeholder(tf.float32, name=\"output\")\n",
      "\n",
      "W = tf.Variable(numpy.random.randn(), name=\"weight\")\n",
      "B = tf.Variable(numpy.random.randn(), name=\"bias\")\n",
      "\n",
      "## ypredict = WX + B\n",
      "ypredict = tf.add(tf.mul(W,X), B)\n",
      "\n",
      "## define the cost\n",
      "## squared error is used as a cost\n",
      "cost = tf.reduce_sum(tf.square(ypredict - Y))/(2 * num_data)\n",
      "\n",
      "## now define an optimizer\n",
      "optimizer = tf.train.GradientDescentOptimizer(learning_rate).minimize(cost)\n",
      "\n",
      "## now equation is defined. Start computing the paramters by defining the graph\n",
      "with tf.Session() as sess:\n",
      "    sess.run(tf.initialize_all_variables())\n",
      "    \n",
      "    ## graph is created and now run the gradient decent\n",
      "    for epoch in range(num_epochs):\n",
      "        ## present input and output data to the optimizer\n",
      "        for (x, y) in zip(input_X, output_Y):\n",
      "            ## update the model parameters. Here we are updating the model parameter for each\n",
      "            ## sample. Lets consider batch update later\n",
      "            sess.run(optimizer, feed_dict={X : x, Y : y})\n",
      "            \n",
      "        ## also lets keep track of prediction cost. We will stop if the predicted error is less\n",
      "        if (epoch % 100) == 0:\n",
      "            ## We compute here the prediction cost, using the model parameters\n",
      "            c = sess.run(cost, feed_dict={X : input_X, Y : output_Y})\n",
      "            \n",
      "            print \"Error after %d epoch is %f\" % (epoch, c)\n",
      "        \n",
      "    ## Lets print the parameters of the model after final epoch\n",
      "    c = sess.run(cost, feed_dict={X : input_X, Y : output_Y})\n",
      "    print \"Error after %d epoch is %f\" % (epoch, c)\n",
      "    print \"Parameters of the model are y = %f * X + %f\"  % (sess.run(W), sess.run(B))\n",
      "    \n",
      "    ## lets plot the line and see how good the model parameters are\n",
      "    predict_Y = sess.run(ypredict, feed_dict={X : input_X})\n",
      "    plt.plot(input_X, predict_Y, label=\"best fit line\")\n",
      "    plt.show()\n",
      "        "
     ],
     "language": "python",
     "metadata": {},
     "outputs": [
      {
       "output_type": "stream",
       "stream": "stdout",
       "text": [
        "Error after 0 epoch is 1387.208008\n",
        "Error after 100 epoch is 1151.554077"
       ]
      },
      {
       "output_type": "stream",
       "stream": "stdout",
       "text": [
        "\n",
        "Error after 200 epoch is 1101.899414"
       ]
      },
      {
       "output_type": "stream",
       "stream": "stdout",
       "text": [
        "\n",
        "Error after 300 epoch is 1091.017456"
       ]
      },
      {
       "output_type": "stream",
       "stream": "stdout",
       "text": [
        "\n",
        "Error after 400 epoch is 1088.451294"
       ]
      },
      {
       "output_type": "stream",
       "stream": "stdout",
       "text": [
        "\n",
        "Error after 500 epoch is 1087.769897"
       ]
      },
      {
       "output_type": "stream",
       "stream": "stdout",
       "text": [
        "\n",
        "Error after 600 epoch is 1087.560791"
       ]
      },
      {
       "output_type": "stream",
       "stream": "stdout",
       "text": [
        "\n",
        "Error after 700 epoch is 1087.486328"
       ]
      },
      {
       "output_type": "stream",
       "stream": "stdout",
       "text": [
        "\n",
        "Error after 800 epoch is 1087.456665"
       ]
      },
      {
       "output_type": "stream",
       "stream": "stdout",
       "text": [
        "\n",
        "Error after 900 epoch is 1087.444458"
       ]
      },
      {
       "output_type": "stream",
       "stream": "stdout",
       "text": [
        "\n",
        "Error after 999 epoch is 1087.438477"
       ]
      },
      {
       "output_type": "stream",
       "stream": "stdout",
       "text": [
        "\n",
        "Parameters of the model are y = 0.778952 * X + 11.370889\n"
       ]
      },
      {
       "metadata": {},
       "output_type": "display_data",
       "png": "[encoded data removed]",
       "text": [
        "<matplotlib.figure.Figure at 0x7fc4a05fc4d0>"
       ]
      }
     ],
     "prompt_number": 26
    },
    {
     "cell_type": "code",
     "collapsed": false,
     "input": [
      "##\n",
      "## Non-Linear Regression\n",
      "##\n",
      "%matplotlib inline\n",
      "\n",
      "import numpy\n",
      "import tensorflow as tf\n",
      "import matplotlib.pyplot as plt\n",
      "\n",
      "from sklearn.datasets import make_classification\n",
      "from sklearn.datasets import make_blobs\n",
      "from sklearn.datasets import make_gaussian_quantiles\n",
      "\n",
      "plt.title(\"Two blobs\")\n",
      "X1, Y1 = make_blobs(n_samples=1000, n_features=2, centers=2, cluster_std=1)\n",
      "plt.scatter(X1[:, 0], X1[:, 1], marker='o', c=Y1)\n",
      "\n",
      "# Parameters\n",
      "learning_rate = 0.01\n",
      "num_epochs = 1000\n",
      "\n",
      "## input and output data\n",
      "num_data = 100\n",
      "\n"
     ],
     "language": "python",
     "metadata": {},
     "outputs": [
      {
       "metadata": {},
       "output_type": "pyout",
       "prompt_number": 44,
       "text": [
        "<matplotlib.collections.PathCollection at 0x7fd033f08890>"
       ]
      },
      {
       "metadata": {},
       "output_type": "display_data",
       "png": "[encoded data removed]",
       "text": [
        "<matplotlib.figure.Figure at 0x7fd033f9f990>"
       ]
      }
     ],
     "prompt_number": 44
    }
   ],
   "metadata": {}
  }
 ]
}